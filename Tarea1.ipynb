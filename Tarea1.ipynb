{
  "nbformat": 4,
  "nbformat_minor": 0,
  "metadata": {
    "colab": {
      "name": "Tarea1.ipynb",
      "provenance": [],
      "collapsed_sections": [],
      "authorship_tag": "ABX9TyPTabTwYjd4tG58YKaKgUe/",
      "include_colab_link": true
    },
    "kernelspec": {
      "name": "python3",
      "display_name": "Python 3"
    },
    "language_info": {
      "name": "python"
    }
  },
  "cells": [
    {
      "cell_type": "markdown",
      "metadata": {
        "id": "view-in-github",
        "colab_type": "text"
      },
      "source": [
        "<a href=\"https://colab.research.google.com/github/fguerrerol/HERRAMIENTASCOMPUTAC/blob/main/Tarea1.ipynb\" target=\"_parent\"><img src=\"https://colab.research.google.com/assets/colab-badge.svg\" alt=\"Open In Colab\"/></a>"
      ]
    },
    {
      "cell_type": "markdown",
      "metadata": {
        "id": "22lw-mHXusfb"
      },
      "source": [
        "TRABAJO PRACTICO"
      ]
    },
    {
      "cell_type": "markdown",
      "metadata": {
        "id": "OAmqR6GRuu81"
      },
      "source": [
        "HERRAMIENTAS Y SISTEMAS COMPUTACIONALES\n",
        "\n",
        "\n",
        "AMAYA CHUNGA ELARD\n",
        "\n",
        "GUERRERO LOPEZ FRANCISCO\n",
        "\n",
        "\n"
      ]
    },
    {
      "cell_type": "code",
      "metadata": {
        "colab": {
          "resources": {
            "http://localhost:8080/nbextensions/google.colab/files.js": {
              "data": "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",
              "ok": true,
              "headers": [
                [
                  "content-type",
                  "application/javascript"
                ]
              ],
              "status": 200,
              "status_text": ""
            }
          },
          "base_uri": "https://localhost:8080/",
          "height": 72
        },
        "id": "XkbAcIWsttjU",
        "outputId": "5b1d543f-e071-453b-edf6-6366f3bf9de2"
      },
      "source": [
        "from google.colab import files\n",
        "uploaded = files.upload()\n"
      ],
      "execution_count": null,
      "outputs": [
        {
          "output_type": "display_data",
          "data": {
            "text/html": [
              "\n",
              "     <input type=\"file\" id=\"files-02d820a9-3106-4d55-8601-fc1405c4261f\" name=\"files[]\" multiple disabled\n",
              "        style=\"border:none\" />\n",
              "     <output id=\"result-02d820a9-3106-4d55-8601-fc1405c4261f\">\n",
              "      Upload widget is only available when the cell has been executed in the\n",
              "      current browser session. Please rerun this cell to enable.\n",
              "      </output>\n",
              "      <script src=\"/nbextensions/google.colab/files.js\"></script> "
            ],
            "text/plain": [
              "<IPython.core.display.HTML object>"
            ]
          },
          "metadata": {
            "tags": []
          }
        },
        {
          "output_type": "stream",
          "text": [
            "Saving base_tarea.xls to base_tarea (1).xls\n"
          ],
          "name": "stdout"
        }
      ]
    },
    {
      "cell_type": "markdown",
      "metadata": {
        "id": "sZ1P6GqturL4"
      },
      "source": [
        ""
      ]
    },
    {
      "cell_type": "code",
      "metadata": {
        "id": "H-hchWlRtvH8"
      },
      "source": [
        "import pandas as pd\n",
        "import numpy as np\n",
        "import matplotlib.pyplot as plt\n",
        "\n",
        "import io\n",
        "df = pd.read_excel('base_tarea.xls')"
      ],
      "execution_count": null,
      "outputs": []
    },
    {
      "cell_type": "code",
      "metadata": {
        "colab": {
          "base_uri": "https://localhost:8080/",
          "height": 306
        },
        "id": "mPi_W9xvt0Yq",
        "outputId": "f3b15fea-733c-411a-d430-05a6131eb7e1"
      },
      "source": [
        "df.head(5)"
      ],
      "execution_count": null,
      "outputs": [
        {
          "output_type": "execute_result",
          "data": {
            "text/html": [
              "<div>\n",
              "<style scoped>\n",
              "    .dataframe tbody tr th:only-of-type {\n",
              "        vertical-align: middle;\n",
              "    }\n",
              "\n",
              "    .dataframe tbody tr th {\n",
              "        vertical-align: top;\n",
              "    }\n",
              "\n",
              "    .dataframe thead th {\n",
              "        text-align: right;\n",
              "    }\n",
              "</style>\n",
              "<table border=\"1\" class=\"dataframe\">\n",
              "  <thead>\n",
              "    <tr style=\"text-align: right;\">\n",
              "      <th></th>\n",
              "      <th>Year</th>\n",
              "      <th>ID</th>\n",
              "      <th>Name</th>\n",
              "      <th>State</th>\n",
              "      <th>County</th>\n",
              "      <th>Status</th>\n",
              "      <th>Type</th>\n",
              "      <th>Company Type</th>\n",
              "      <th>Production</th>\n",
              "      <th>Average Employees</th>\n",
              "      <th>Labor_Hours</th>\n",
              "      <th>date</th>\n",
              "    </tr>\n",
              "  </thead>\n",
              "  <tbody>\n",
              "    <tr>\n",
              "      <th>0</th>\n",
              "      <td>2013</td>\n",
              "      <td>103381</td>\n",
              "      <td>Tacoa Highwall Miner</td>\n",
              "      <td>Alabama</td>\n",
              "      <td>Bibb</td>\n",
              "      <td>Active, men working, not producing</td>\n",
              "      <td>Surface</td>\n",
              "      <td>Indepedent Producer Operator</td>\n",
              "      <td>56004</td>\n",
              "      <td>10</td>\n",
              "      <td>22392</td>\n",
              "      <td>2003-06-17</td>\n",
              "    </tr>\n",
              "    <tr>\n",
              "      <th>1</th>\n",
              "      <td>2013</td>\n",
              "      <td>103404</td>\n",
              "      <td>Reid School Mine</td>\n",
              "      <td>Alabama</td>\n",
              "      <td>Blount</td>\n",
              "      <td>Permanently abandoned</td>\n",
              "      <td>Surface</td>\n",
              "      <td>Indepedent Producer Operator</td>\n",
              "      <td>28807</td>\n",
              "      <td>18</td>\n",
              "      <td>28447</td>\n",
              "      <td>2005-09-21</td>\n",
              "    </tr>\n",
              "    <tr>\n",
              "      <th>2</th>\n",
              "      <td>2013</td>\n",
              "      <td>100759</td>\n",
              "      <td>North River #1 Underground Min</td>\n",
              "      <td>Alabama</td>\n",
              "      <td>Fayette</td>\n",
              "      <td>Active, men working, not producing</td>\n",
              "      <td>Underground</td>\n",
              "      <td>Indepedent Producer Operator</td>\n",
              "      <td>1440115</td>\n",
              "      <td>183</td>\n",
              "      <td>474784</td>\n",
              "      <td>2001-01-13</td>\n",
              "    </tr>\n",
              "    <tr>\n",
              "      <th>3</th>\n",
              "      <td>2013</td>\n",
              "      <td>103246</td>\n",
              "      <td>Bear Creek</td>\n",
              "      <td>Alabama</td>\n",
              "      <td>Franklin</td>\n",
              "      <td>Active</td>\n",
              "      <td>Surface</td>\n",
              "      <td>Indepedent Producer Operator</td>\n",
              "      <td>87587</td>\n",
              "      <td>13</td>\n",
              "      <td>29193</td>\n",
              "      <td>2006-01-03</td>\n",
              "    </tr>\n",
              "    <tr>\n",
              "      <th>4</th>\n",
              "      <td>2013</td>\n",
              "      <td>103451</td>\n",
              "      <td>Knight Mine</td>\n",
              "      <td>Alabama</td>\n",
              "      <td>Franklin</td>\n",
              "      <td>Active</td>\n",
              "      <td>Surface</td>\n",
              "      <td>Indepedent Producer Operator</td>\n",
              "      <td>147499</td>\n",
              "      <td>27</td>\n",
              "      <td>46393</td>\n",
              "      <td>2007-05-21</td>\n",
              "    </tr>\n",
              "  </tbody>\n",
              "</table>\n",
              "</div>"
            ],
            "text/plain": [
              "   Year      ID  ... Labor_Hours       date\n",
              "0  2013  103381  ...       22392 2003-06-17\n",
              "1  2013  103404  ...       28447 2005-09-21\n",
              "2  2013  100759  ...      474784 2001-01-13\n",
              "3  2013  103246  ...       29193 2006-01-03\n",
              "4  2013  103451  ...       46393 2007-05-21\n",
              "\n",
              "[5 rows x 12 columns]"
            ]
          },
          "metadata": {
            "tags": []
          },
          "execution_count": 13
        }
      ]
    },
    {
      "cell_type": "code",
      "metadata": {
        "colab": {
          "base_uri": "https://localhost:8080/",
          "height": 306
        },
        "id": "KE-ElFmIuqTY",
        "outputId": "83c0d6bf-0f0c-4a83-a82f-09fad4404be8"
      },
      "source": [
        "df.tail(5)\n"
      ],
      "execution_count": null,
      "outputs": [
        {
          "output_type": "execute_result",
          "data": {
            "text/html": [
              "<div>\n",
              "<style scoped>\n",
              "    .dataframe tbody tr th:only-of-type {\n",
              "        vertical-align: middle;\n",
              "    }\n",
              "\n",
              "    .dataframe tbody tr th {\n",
              "        vertical-align: top;\n",
              "    }\n",
              "\n",
              "    .dataframe thead th {\n",
              "        text-align: right;\n",
              "    }\n",
              "</style>\n",
              "<table border=\"1\" class=\"dataframe\">\n",
              "  <thead>\n",
              "    <tr style=\"text-align: right;\">\n",
              "      <th></th>\n",
              "      <th>Year</th>\n",
              "      <th>ID</th>\n",
              "      <th>Name</th>\n",
              "      <th>State</th>\n",
              "      <th>County</th>\n",
              "      <th>Status</th>\n",
              "      <th>Type</th>\n",
              "      <th>Company Type</th>\n",
              "      <th>Production</th>\n",
              "      <th>Average Employees</th>\n",
              "      <th>Labor_Hours</th>\n",
              "      <th>date</th>\n",
              "    </tr>\n",
              "  </thead>\n",
              "  <tbody>\n",
              "    <tr>\n",
              "      <th>1445</th>\n",
              "      <td>2013</td>\n",
              "      <td>1103254</td>\n",
              "      <td>Fidelity Mine</td>\n",
              "      <td>Refuse Recovery</td>\n",
              "      <td>Perry</td>\n",
              "      <td>Active, men working, not producing</td>\n",
              "      <td>Refuse</td>\n",
              "      <td>Operating Subsidiary</td>\n",
              "      <td>18532</td>\n",
              "      <td>4</td>\n",
              "      <td>8249</td>\n",
              "      <td>2006-02-05</td>\n",
              "    </tr>\n",
              "    <tr>\n",
              "      <th>1446</th>\n",
              "      <td>2013</td>\n",
              "      <td>1102636</td>\n",
              "      <td>Wfi</td>\n",
              "      <td>Refuse Recovery</td>\n",
              "      <td>Saline</td>\n",
              "      <td>Active, men working, not producing</td>\n",
              "      <td>Refuse</td>\n",
              "      <td>Indepedent Producer Operator</td>\n",
              "      <td>5070</td>\n",
              "      <td>4</td>\n",
              "      <td>1449</td>\n",
              "      <td>2007-02-07</td>\n",
              "    </tr>\n",
              "    <tr>\n",
              "      <th>1447</th>\n",
              "      <td>2013</td>\n",
              "      <td>4407233</td>\n",
              "      <td>Gobco #8</td>\n",
              "      <td>Refuse Recovery</td>\n",
              "      <td>Russell</td>\n",
              "      <td>Active</td>\n",
              "      <td>Refuse</td>\n",
              "      <td>Indepedent Producer Operator</td>\n",
              "      <td>377607</td>\n",
              "      <td>16</td>\n",
              "      <td>43684</td>\n",
              "      <td>2002-08-17</td>\n",
              "    </tr>\n",
              "    <tr>\n",
              "      <th>1448</th>\n",
              "      <td>2013</td>\n",
              "      <td>1518524</td>\n",
              "      <td>Turkey Pen Refuse</td>\n",
              "      <td>Refuse Recovery</td>\n",
              "      <td>Pike</td>\n",
              "      <td>Active</td>\n",
              "      <td>Refuse</td>\n",
              "      <td>Indepedent Producer Operator</td>\n",
              "      <td>7744</td>\n",
              "      <td>2</td>\n",
              "      <td>622</td>\n",
              "      <td>2002-08-16</td>\n",
              "    </tr>\n",
              "    <tr>\n",
              "      <th>1449</th>\n",
              "      <td>2013</td>\n",
              "      <td>1519685</td>\n",
              "      <td>Fedscreek Refuse Pile</td>\n",
              "      <td>Refuse Recovery</td>\n",
              "      <td>Pike</td>\n",
              "      <td>Active, men working, not producing</td>\n",
              "      <td>Refuse</td>\n",
              "      <td>Indepedent Producer Operator</td>\n",
              "      <td>17357</td>\n",
              "      <td>3</td>\n",
              "      <td>1020</td>\n",
              "      <td>2005-09-28</td>\n",
              "    </tr>\n",
              "  </tbody>\n",
              "</table>\n",
              "</div>"
            ],
            "text/plain": [
              "      Year       ID  ... Labor_Hours       date\n",
              "1445  2013  1103254  ...        8249 2006-02-05\n",
              "1446  2013  1102636  ...        1449 2007-02-07\n",
              "1447  2013  4407233  ...       43684 2002-08-17\n",
              "1448  2013  1518524  ...         622 2002-08-16\n",
              "1449  2013  1519685  ...        1020 2005-09-28\n",
              "\n",
              "[5 rows x 12 columns]"
            ]
          },
          "metadata": {
            "tags": []
          },
          "execution_count": 14
        }
      ]
    },
    {
      "cell_type": "code",
      "metadata": {
        "colab": {
          "base_uri": "https://localhost:8080/"
        },
        "id": "PolmYdkIyKph",
        "outputId": "3e32273c-18bb-451f-8d69-c1e22b0db1fd"
      },
      "source": [
        "df.dtypes"
      ],
      "execution_count": null,
      "outputs": [
        {
          "output_type": "execute_result",
          "data": {
            "text/plain": [
              "Year                          int64\n",
              "ID                            int64\n",
              "Name                         object\n",
              "State                        object\n",
              "County                       object\n",
              "Status                       object\n",
              "Type                         object\n",
              "Company Type                 object\n",
              "Production                    int64\n",
              "Average Employees             int64\n",
              "Labor_Hours                   int64\n",
              "date                 datetime64[ns]\n",
              "dtype: object"
            ]
          },
          "metadata": {
            "tags": []
          },
          "execution_count": 15
        }
      ]
    },
    {
      "cell_type": "markdown",
      "metadata": {
        "id": "ny047J9XyAH3"
      },
      "source": [
        "Ejercicio 3\n"
      ]
    },
    {
      "cell_type": "code",
      "metadata": {
        "colab": {
          "base_uri": "https://localhost:8080/"
        },
        "id": "T51JOO7n3ggv",
        "outputId": "8917d244-6e9e-4b56-ba67-d6723f5c80c0"
      },
      "source": [
        "print(df[[\"State\", \"Production\", \"Average Employees\"]].head(5))\n",
        "print(df[[\"State\", \"Production\", \"Average Employees\"]].tail(5))\n",
        "\n"
      ],
      "execution_count": null,
      "outputs": [
        {
          "output_type": "stream",
          "text": [
            "     State  Production  Average Employees\n",
            "0  Alabama     56004.0               10.0\n",
            "1  Alabama     28807.0               18.0\n",
            "2  Alabama   1440115.0              183.0\n",
            "3  Alabama     87587.0               13.0\n",
            "4  Alabama    147499.0               27.0\n",
            "                State   Production  Average Employees\n",
            "1446  Refuse Recovery       5070.0                4.0\n",
            "1447  Refuse Recovery     377607.0               16.0\n",
            "1448  Refuse Recovery       7744.0                2.0\n",
            "1449  Refuse Recovery      17357.0                3.0\n",
            "1450              NaN  984841779.0                NaN\n"
          ],
          "name": "stdout"
        }
      ]
    },
    {
      "cell_type": "markdown",
      "metadata": {
        "id": "xNd8B73Ix_yU"
      },
      "source": [
        "Ejercicio 4\n"
      ]
    },
    {
      "cell_type": "code",
      "metadata": {
        "colab": {
          "base_uri": "https://localhost:8080/"
        },
        "id": "3ZA37U0pzeOG",
        "outputId": "e8c4584b-e0ac-405a-f35a-afc49d483c9a"
      },
      "source": [
        "print(df[\"Production\"].sum())\n",
        "print(df[\"Production\"].mean())\n",
        "print(df[\"Production\"].std())\n",
        "print(df[\"Production\"].min())\n",
        "print(df[\"Production\"].max())"
      ],
      "execution_count": null,
      "outputs": [
        {
          "output_type": "stream",
          "text": [
            "984841779\n",
            "679201.2268965517\n",
            "4414922.445079227\n",
            "0\n",
            "111005549\n"
          ],
          "name": "stdout"
        }
      ]
    },
    {
      "cell_type": "markdown",
      "metadata": {
        "id": "RIVAc7rmx_Oe"
      },
      "source": [
        "Ejercicio 5\n"
      ]
    },
    {
      "cell_type": "code",
      "metadata": {
        "id": "kpAT5o3SvUwg"
      },
      "source": [
        "df.insert(4,\"Columna\",np.nan)"
      ],
      "execution_count": null,
      "outputs": []
    },
    {
      "cell_type": "markdown",
      "metadata": {
        "id": "7ac35A7iympX"
      },
      "source": [
        "Ejercicio 6\n"
      ]
    },
    {
      "cell_type": "code",
      "metadata": {
        "id": "HmyhAmnmyVT1"
      },
      "source": [
        "\n",
        "dataframe = pd.read_excel('base_tarea.xls',skiprows = 10)"
      ],
      "execution_count": null,
      "outputs": []
    },
    {
      "cell_type": "markdown",
      "metadata": {
        "id": "xq4nP6LuysWK"
      },
      "source": [
        "Ejercicio 7"
      ]
    },
    {
      "cell_type": "markdown",
      "metadata": {
        "id": "IYm42Z441Yj6"
      },
      "source": [
        ""
      ]
    },
    {
      "cell_type": "code",
      "metadata": {
        "id": "Zzup28rRfJRO"
      },
      "source": [
        "df.loc[len(df),['Production','Labor_Hours'] ] = [df[\"Production\"].sum(),df[\"Labor_Hours\"].sum()]\n",
        "\n",
        "\n"
      ],
      "execution_count": null,
      "outputs": []
    },
    {
      "cell_type": "code",
      "metadata": {
        "colab": {
          "base_uri": "https://localhost:8080/",
          "height": 289
        },
        "id": "vs99AUkFi30A",
        "outputId": "0c339f54-f65a-4bff-9742-25cf79c69889"
      },
      "source": [
        "df.tail(5)\n",
        "\n"
      ],
      "execution_count": null,
      "outputs": [
        {
          "output_type": "execute_result",
          "data": {
            "text/html": [
              "<div>\n",
              "<style scoped>\n",
              "    .dataframe tbody tr th:only-of-type {\n",
              "        vertical-align: middle;\n",
              "    }\n",
              "\n",
              "    .dataframe tbody tr th {\n",
              "        vertical-align: top;\n",
              "    }\n",
              "\n",
              "    .dataframe thead th {\n",
              "        text-align: right;\n",
              "    }\n",
              "</style>\n",
              "<table border=\"1\" class=\"dataframe\">\n",
              "  <thead>\n",
              "    <tr style=\"text-align: right;\">\n",
              "      <th></th>\n",
              "      <th>Year</th>\n",
              "      <th>ID</th>\n",
              "      <th>Name</th>\n",
              "      <th>State</th>\n",
              "      <th>Columna</th>\n",
              "      <th>County</th>\n",
              "      <th>Status</th>\n",
              "      <th>Type</th>\n",
              "      <th>Company Type</th>\n",
              "      <th>Production</th>\n",
              "      <th>Average Employees</th>\n",
              "      <th>Labor_Hours</th>\n",
              "      <th>date</th>\n",
              "    </tr>\n",
              "  </thead>\n",
              "  <tbody>\n",
              "    <tr>\n",
              "      <th>1446</th>\n",
              "      <td>2013.0</td>\n",
              "      <td>1102636.0</td>\n",
              "      <td>Wfi</td>\n",
              "      <td>Refuse Recovery</td>\n",
              "      <td>NaN</td>\n",
              "      <td>Saline</td>\n",
              "      <td>Active, men working, not producing</td>\n",
              "      <td>Refuse</td>\n",
              "      <td>Indepedent Producer Operator</td>\n",
              "      <td>5070.0</td>\n",
              "      <td>4.0</td>\n",
              "      <td>1449.0</td>\n",
              "      <td>2007-02-07</td>\n",
              "    </tr>\n",
              "    <tr>\n",
              "      <th>1447</th>\n",
              "      <td>2013.0</td>\n",
              "      <td>4407233.0</td>\n",
              "      <td>Gobco #8</td>\n",
              "      <td>Refuse Recovery</td>\n",
              "      <td>NaN</td>\n",
              "      <td>Russell</td>\n",
              "      <td>Active</td>\n",
              "      <td>Refuse</td>\n",
              "      <td>Indepedent Producer Operator</td>\n",
              "      <td>377607.0</td>\n",
              "      <td>16.0</td>\n",
              "      <td>43684.0</td>\n",
              "      <td>2002-08-17</td>\n",
              "    </tr>\n",
              "    <tr>\n",
              "      <th>1448</th>\n",
              "      <td>2013.0</td>\n",
              "      <td>1518524.0</td>\n",
              "      <td>Turkey Pen Refuse</td>\n",
              "      <td>Refuse Recovery</td>\n",
              "      <td>NaN</td>\n",
              "      <td>Pike</td>\n",
              "      <td>Active</td>\n",
              "      <td>Refuse</td>\n",
              "      <td>Indepedent Producer Operator</td>\n",
              "      <td>7744.0</td>\n",
              "      <td>2.0</td>\n",
              "      <td>622.0</td>\n",
              "      <td>2002-08-16</td>\n",
              "    </tr>\n",
              "    <tr>\n",
              "      <th>1449</th>\n",
              "      <td>2013.0</td>\n",
              "      <td>1519685.0</td>\n",
              "      <td>Fedscreek Refuse Pile</td>\n",
              "      <td>Refuse Recovery</td>\n",
              "      <td>NaN</td>\n",
              "      <td>Pike</td>\n",
              "      <td>Active, men working, not producing</td>\n",
              "      <td>Refuse</td>\n",
              "      <td>Indepedent Producer Operator</td>\n",
              "      <td>17357.0</td>\n",
              "      <td>3.0</td>\n",
              "      <td>1020.0</td>\n",
              "      <td>2005-09-28</td>\n",
              "    </tr>\n",
              "    <tr>\n",
              "      <th>1450</th>\n",
              "      <td>NaN</td>\n",
              "      <td>NaN</td>\n",
              "      <td>NaN</td>\n",
              "      <td>NaN</td>\n",
              "      <td>NaN</td>\n",
              "      <td>NaN</td>\n",
              "      <td>NaN</td>\n",
              "      <td>NaN</td>\n",
              "      <td>NaN</td>\n",
              "      <td>984841779.0</td>\n",
              "      <td>NaN</td>\n",
              "      <td>177910757.0</td>\n",
              "      <td>NaT</td>\n",
              "    </tr>\n",
              "  </tbody>\n",
              "</table>\n",
              "</div>"
            ],
            "text/plain": [
              "        Year         ID  ...  Labor_Hours       date\n",
              "1446  2013.0  1102636.0  ...       1449.0 2007-02-07\n",
              "1447  2013.0  4407233.0  ...      43684.0 2002-08-17\n",
              "1448  2013.0  1518524.0  ...        622.0 2002-08-16\n",
              "1449  2013.0  1519685.0  ...       1020.0 2005-09-28\n",
              "1450     NaN        NaN  ...  177910757.0        NaT\n",
              "\n",
              "[5 rows x 13 columns]"
            ]
          },
          "metadata": {
            "tags": []
          },
          "execution_count": 20
        }
      ]
    },
    {
      "cell_type": "markdown",
      "metadata": {
        "id": "KURQjS691XMQ"
      },
      "source": [
        "Ejercicio 8\n"
      ]
    },
    {
      "cell_type": "code",
      "metadata": {
        "id": "SXOKjEC9fIvu",
        "colab": {
          "base_uri": "https://localhost:8080/"
        },
        "outputId": "da6c77dc-6723-45fd-dc1c-7d4aed86c850"
      },
      "source": [
        "dataframe2 = pd.read_excel('base_tarea.xls', nrows=10)\n",
        "print(dataframe2)"
      ],
      "execution_count": null,
      "outputs": [
        {
          "output_type": "stream",
          "text": [
            "   Year      ID  ... Labor_Hours       date\n",
            "0  2013  103381  ...       22392 2003-06-17\n",
            "1  2013  103404  ...       28447 2005-09-21\n",
            "2  2013  100759  ...      474784 2001-01-13\n",
            "3  2013  103246  ...       29193 2006-01-03\n",
            "4  2013  103451  ...       46393 2007-05-21\n",
            "5  2013  103433  ...       47195 2005-06-25\n",
            "6  2013  100329  ...      144002 2006-02-05\n",
            "7  2013  100851  ...     1001809 2007-02-07\n",
            "8  2013  102901  ...       12396 2002-08-17\n",
            "9  2013  102901  ...     1237415 2002-08-16\n",
            "\n",
            "[10 rows x 12 columns]\n"
          ],
          "name": "stdout"
        }
      ]
    },
    {
      "cell_type": "markdown",
      "metadata": {
        "id": "t1sk0KKJ1ZL0"
      },
      "source": [
        "Ejercicio 9"
      ]
    },
    {
      "cell_type": "code",
      "metadata": {
        "id": "dlG-bydxysx1"
      },
      "source": [
        "subtotal_LHperID=df[[\"ID\",\"Labor_Hours\"]].groupby(by =\"ID\").sum()"
      ],
      "execution_count": null,
      "outputs": []
    },
    {
      "cell_type": "code",
      "metadata": {
        "id": "mn_U7OC6hOhA",
        "colab": {
          "base_uri": "https://localhost:8080/"
        },
        "outputId": "562ccd7b-0299-4adb-9e1b-7e2db52e5acc"
      },
      "source": [
        "print(subtotal_LHperID)"
      ],
      "execution_count": null,
      "outputs": [
        {
          "output_type": "stream",
          "text": [
            "           Labor_Hours\n",
            "ID                    \n",
            "100329.0      144002.0\n",
            "100347.0      215295.0\n",
            "100515.0        6240.0\n",
            "100759.0      474784.0\n",
            "100851.0     1001809.0\n",
            "...                ...\n",
            "4801353.0    2811138.0\n",
            "4801429.0     161270.0\n",
            "4801645.0      35687.0\n",
            "4801646.0     661265.0\n",
            "5000030.0     286079.0\n",
            "\n",
            "[1321 rows x 1 columns]\n"
          ],
          "name": "stdout"
        }
      ]
    },
    {
      "cell_type": "markdown",
      "metadata": {
        "id": "VfBvxU8c2mm_"
      },
      "source": [
        "Ejercicio 10\n"
      ]
    },
    {
      "cell_type": "code",
      "metadata": {
        "colab": {
          "base_uri": "https://localhost:8080/",
          "height": 162
        },
        "id": "LhidB8vpykOC",
        "outputId": "ade86bf8-00d9-4f6b-e7b7-991cb6484841"
      },
      "source": [
        "df.loc[df[\"ID\"] == 102976]"
      ],
      "execution_count": null,
      "outputs": [
        {
          "output_type": "execute_result",
          "data": {
            "text/html": [
              "<div>\n",
              "<style scoped>\n",
              "    .dataframe tbody tr th:only-of-type {\n",
              "        vertical-align: middle;\n",
              "    }\n",
              "\n",
              "    .dataframe tbody tr th {\n",
              "        vertical-align: top;\n",
              "    }\n",
              "\n",
              "    .dataframe thead th {\n",
              "        text-align: right;\n",
              "    }\n",
              "</style>\n",
              "<table border=\"1\" class=\"dataframe\">\n",
              "  <thead>\n",
              "    <tr style=\"text-align: right;\">\n",
              "      <th></th>\n",
              "      <th>Year</th>\n",
              "      <th>ID</th>\n",
              "      <th>Name</th>\n",
              "      <th>State</th>\n",
              "      <th>Columna</th>\n",
              "      <th>County</th>\n",
              "      <th>Status</th>\n",
              "      <th>Type</th>\n",
              "      <th>Company Type</th>\n",
              "      <th>Production</th>\n",
              "      <th>Average Employees</th>\n",
              "      <th>Labor_Hours</th>\n",
              "      <th>date</th>\n",
              "    </tr>\n",
              "  </thead>\n",
              "  <tbody>\n",
              "    <tr>\n",
              "      <th>18</th>\n",
              "      <td>2013</td>\n",
              "      <td>102976</td>\n",
              "      <td>Piney Woods Preparation Plant</td>\n",
              "      <td>Alabama</td>\n",
              "      <td>NaN</td>\n",
              "      <td>Shelby</td>\n",
              "      <td>Active</td>\n",
              "      <td>Surface</td>\n",
              "      <td>Indepedent Producer Operator</td>\n",
              "      <td>0</td>\n",
              "      <td>5</td>\n",
              "      <td>14828</td>\n",
              "      <td>2006-11-15</td>\n",
              "    </tr>\n",
              "    <tr>\n",
              "      <th>19</th>\n",
              "      <td>2013</td>\n",
              "      <td>102976</td>\n",
              "      <td>Piney Woods Preparation Plant</td>\n",
              "      <td>Alabama</td>\n",
              "      <td>NaN</td>\n",
              "      <td>Shelby</td>\n",
              "      <td>Active</td>\n",
              "      <td>Underground</td>\n",
              "      <td>Indepedent Producer Operator</td>\n",
              "      <td>0</td>\n",
              "      <td>9</td>\n",
              "      <td>23193</td>\n",
              "      <td>2007-08-10</td>\n",
              "    </tr>\n",
              "  </tbody>\n",
              "</table>\n",
              "</div>"
            ],
            "text/plain": [
              "    Year      ID  ... Labor_Hours       date\n",
              "18  2013  102976  ...       14828 2006-11-15\n",
              "19  2013  102976  ...       23193 2007-08-10\n",
              "\n",
              "[2 rows x 13 columns]"
            ]
          },
          "metadata": {
            "tags": []
          },
          "execution_count": 13
        }
      ]
    },
    {
      "cell_type": "markdown",
      "metadata": {
        "id": "GpxhwJ9z2pNo"
      },
      "source": [
        "Ejercicio 11"
      ]
    },
    {
      "cell_type": "code",
      "metadata": {
        "colab": {
          "base_uri": "https://localhost:8080/",
          "height": 623
        },
        "id": "FPa2YiDP2MIq",
        "outputId": "7742b123-841e-4f83-b20f-3695e8e312aa"
      },
      "source": [
        "df.loc[df[\"Labor_Hours\"] > 25000]"
      ],
      "execution_count": null,
      "outputs": [
        {
          "output_type": "execute_result",
          "data": {
            "text/html": [
              "<div>\n",
              "<style scoped>\n",
              "    .dataframe tbody tr th:only-of-type {\n",
              "        vertical-align: middle;\n",
              "    }\n",
              "\n",
              "    .dataframe tbody tr th {\n",
              "        vertical-align: top;\n",
              "    }\n",
              "\n",
              "    .dataframe thead th {\n",
              "        text-align: right;\n",
              "    }\n",
              "</style>\n",
              "<table border=\"1\" class=\"dataframe\">\n",
              "  <thead>\n",
              "    <tr style=\"text-align: right;\">\n",
              "      <th></th>\n",
              "      <th>Year</th>\n",
              "      <th>ID</th>\n",
              "      <th>Name</th>\n",
              "      <th>State</th>\n",
              "      <th>Columna</th>\n",
              "      <th>County</th>\n",
              "      <th>Status</th>\n",
              "      <th>Type</th>\n",
              "      <th>Company Type</th>\n",
              "      <th>Production</th>\n",
              "      <th>Average Employees</th>\n",
              "      <th>Labor_Hours</th>\n",
              "      <th>date</th>\n",
              "    </tr>\n",
              "  </thead>\n",
              "  <tbody>\n",
              "    <tr>\n",
              "      <th>1</th>\n",
              "      <td>2013</td>\n",
              "      <td>103404</td>\n",
              "      <td>Reid School Mine</td>\n",
              "      <td>Alabama</td>\n",
              "      <td>NaN</td>\n",
              "      <td>Blount</td>\n",
              "      <td>Permanently abandoned</td>\n",
              "      <td>Surface</td>\n",
              "      <td>Indepedent Producer Operator</td>\n",
              "      <td>28807</td>\n",
              "      <td>18</td>\n",
              "      <td>28447</td>\n",
              "      <td>2005-09-21</td>\n",
              "    </tr>\n",
              "    <tr>\n",
              "      <th>2</th>\n",
              "      <td>2013</td>\n",
              "      <td>100759</td>\n",
              "      <td>North River #1 Underground Min</td>\n",
              "      <td>Alabama</td>\n",
              "      <td>NaN</td>\n",
              "      <td>Fayette</td>\n",
              "      <td>Active, men working, not producing</td>\n",
              "      <td>Underground</td>\n",
              "      <td>Indepedent Producer Operator</td>\n",
              "      <td>1440115</td>\n",
              "      <td>183</td>\n",
              "      <td>474784</td>\n",
              "      <td>2001-01-13</td>\n",
              "    </tr>\n",
              "    <tr>\n",
              "      <th>3</th>\n",
              "      <td>2013</td>\n",
              "      <td>103246</td>\n",
              "      <td>Bear Creek</td>\n",
              "      <td>Alabama</td>\n",
              "      <td>NaN</td>\n",
              "      <td>Franklin</td>\n",
              "      <td>Active</td>\n",
              "      <td>Surface</td>\n",
              "      <td>Indepedent Producer Operator</td>\n",
              "      <td>87587</td>\n",
              "      <td>13</td>\n",
              "      <td>29193</td>\n",
              "      <td>2006-01-03</td>\n",
              "    </tr>\n",
              "    <tr>\n",
              "      <th>4</th>\n",
              "      <td>2013</td>\n",
              "      <td>103451</td>\n",
              "      <td>Knight Mine</td>\n",
              "      <td>Alabama</td>\n",
              "      <td>NaN</td>\n",
              "      <td>Franklin</td>\n",
              "      <td>Active</td>\n",
              "      <td>Surface</td>\n",
              "      <td>Indepedent Producer Operator</td>\n",
              "      <td>147499</td>\n",
              "      <td>27</td>\n",
              "      <td>46393</td>\n",
              "      <td>2007-05-21</td>\n",
              "    </tr>\n",
              "    <tr>\n",
              "      <th>5</th>\n",
              "      <td>2013</td>\n",
              "      <td>103433</td>\n",
              "      <td>Crane Central Mine</td>\n",
              "      <td>Alabama</td>\n",
              "      <td>NaN</td>\n",
              "      <td>Jackson</td>\n",
              "      <td>Temporarily closed</td>\n",
              "      <td>Surface</td>\n",
              "      <td>Indepedent Producer Operator</td>\n",
              "      <td>69339</td>\n",
              "      <td>27</td>\n",
              "      <td>47195</td>\n",
              "      <td>2005-06-25</td>\n",
              "    </tr>\n",
              "    <tr>\n",
              "      <th>...</th>\n",
              "      <td>...</td>\n",
              "      <td>...</td>\n",
              "      <td>...</td>\n",
              "      <td>...</td>\n",
              "      <td>...</td>\n",
              "      <td>...</td>\n",
              "      <td>...</td>\n",
              "      <td>...</td>\n",
              "      <td>...</td>\n",
              "      <td>...</td>\n",
              "      <td>...</td>\n",
              "      <td>...</td>\n",
              "      <td>...</td>\n",
              "    </tr>\n",
              "    <tr>\n",
              "      <th>1418</th>\n",
              "      <td>2013</td>\n",
              "      <td>4800677</td>\n",
              "      <td>Jim Bridger Mine</td>\n",
              "      <td>Wyoming</td>\n",
              "      <td>NaN</td>\n",
              "      <td>Sweetwater</td>\n",
              "      <td>Active</td>\n",
              "      <td>Surface</td>\n",
              "      <td>Operating Subsidiary</td>\n",
              "      <td>785984</td>\n",
              "      <td>182</td>\n",
              "      <td>368307</td>\n",
              "      <td>2005-07-24</td>\n",
              "    </tr>\n",
              "    <tr>\n",
              "      <th>1419</th>\n",
              "      <td>2013</td>\n",
              "      <td>4801180</td>\n",
              "      <td>Black Butte And Leucite Hills</td>\n",
              "      <td>Wyoming</td>\n",
              "      <td>NaN</td>\n",
              "      <td>Sweetwater</td>\n",
              "      <td>Active</td>\n",
              "      <td>Surface</td>\n",
              "      <td>Operating Subsidiary</td>\n",
              "      <td>3657036</td>\n",
              "      <td>186</td>\n",
              "      <td>386879</td>\n",
              "      <td>2006-11-15</td>\n",
              "    </tr>\n",
              "    <tr>\n",
              "      <th>1420</th>\n",
              "      <td>2013</td>\n",
              "      <td>4801646</td>\n",
              "      <td>Bridger Underground Coal Mine</td>\n",
              "      <td>Wyoming</td>\n",
              "      <td>NaN</td>\n",
              "      <td>Sweetwater</td>\n",
              "      <td>Active</td>\n",
              "      <td>Underground</td>\n",
              "      <td>Operating Subsidiary</td>\n",
              "      <td>4442616</td>\n",
              "      <td>278</td>\n",
              "      <td>661265</td>\n",
              "      <td>2003-06-17</td>\n",
              "    </tr>\n",
              "    <tr>\n",
              "      <th>1428</th>\n",
              "      <td>2013</td>\n",
              "      <td>3603561</td>\n",
              "      <td>Mcclure Strip</td>\n",
              "      <td>Refuse Recovery</td>\n",
              "      <td>NaN</td>\n",
              "      <td>Jefferson</td>\n",
              "      <td>Active</td>\n",
              "      <td>Refuse</td>\n",
              "      <td>Indepedent Producer Operator</td>\n",
              "      <td>235642</td>\n",
              "      <td>51</td>\n",
              "      <td>121332</td>\n",
              "      <td>2002-08-17</td>\n",
              "    </tr>\n",
              "    <tr>\n",
              "      <th>1447</th>\n",
              "      <td>2013</td>\n",
              "      <td>4407233</td>\n",
              "      <td>Gobco #8</td>\n",
              "      <td>Refuse Recovery</td>\n",
              "      <td>NaN</td>\n",
              "      <td>Russell</td>\n",
              "      <td>Active</td>\n",
              "      <td>Refuse</td>\n",
              "      <td>Indepedent Producer Operator</td>\n",
              "      <td>377607</td>\n",
              "      <td>16</td>\n",
              "      <td>43684</td>\n",
              "      <td>2002-08-17</td>\n",
              "    </tr>\n",
              "  </tbody>\n",
              "</table>\n",
              "<p>820 rows × 13 columns</p>\n",
              "</div>"
            ],
            "text/plain": [
              "      Year       ID  ... Labor_Hours       date\n",
              "1     2013   103404  ...       28447 2005-09-21\n",
              "2     2013   100759  ...      474784 2001-01-13\n",
              "3     2013   103246  ...       29193 2006-01-03\n",
              "4     2013   103451  ...       46393 2007-05-21\n",
              "5     2013   103433  ...       47195 2005-06-25\n",
              "...    ...      ...  ...         ...        ...\n",
              "1418  2013  4800677  ...      368307 2005-07-24\n",
              "1419  2013  4801180  ...      386879 2006-11-15\n",
              "1420  2013  4801646  ...      661265 2003-06-17\n",
              "1428  2013  3603561  ...      121332 2002-08-17\n",
              "1447  2013  4407233  ...       43684 2002-08-17\n",
              "\n",
              "[820 rows x 13 columns]"
            ]
          },
          "metadata": {
            "tags": []
          },
          "execution_count": 14
        }
      ]
    },
    {
      "cell_type": "markdown",
      "metadata": {
        "id": "ucACYAJro2Q1"
      },
      "source": [
        "Ejercicio 12\n"
      ]
    },
    {
      "cell_type": "code",
      "metadata": {
        "colab": {
          "base_uri": "https://localhost:8080/"
        },
        "id": "vSLr1Du7o4F4",
        "outputId": "6fd78a31-7aae-4d6a-f561-2335071c62cc"
      },
      "source": [
        "duplicados = df[df.duplicated(['ID'],keep=False)]\n",
        "print(duplicados)"
      ],
      "execution_count": null,
      "outputs": [
        {
          "output_type": "stream",
          "text": [
            "        Year         ID  ... Labor_Hours       date\n",
            "8     2013.0   102901.0  ...     12396.0 2002-08-17\n",
            "9     2013.0   102901.0  ...   1237415.0 2002-08-16\n",
            "18    2013.0   102976.0  ...     14828.0 2006-11-15\n",
            "19    2013.0   102976.0  ...     23193.0 2007-08-10\n",
            "20    2013.0   103380.0  ...     12621.0 2003-06-17\n",
            "...      ...        ...  ...         ...        ...\n",
            "1428  2013.0  3603561.0  ...    121332.0 2002-08-17\n",
            "1435  2013.0  3608822.0  ...      4694.0 2003-05-18\n",
            "1436  2013.0  3609843.0  ...     13036.0 2005-12-24\n",
            "1439  2013.0  3609406.0  ...      8686.0 2003-06-17\n",
            "1445  2013.0  1103254.0  ...      8249.0 2006-02-05\n",
            "\n",
            "[258 rows x 13 columns]\n"
          ],
          "name": "stdout"
        }
      ]
    },
    {
      "cell_type": "markdown",
      "metadata": {
        "id": "LsynL-DA3ZUC"
      },
      "source": [
        "Ejercicio 13\n"
      ]
    },
    {
      "cell_type": "code",
      "metadata": {
        "colab": {
          "base_uri": "https://localhost:8080/",
          "height": 674
        },
        "id": "SW5RpL_c2Xvv",
        "outputId": "ff68e286-c313-4695-957c-bd6df646670a"
      },
      "source": [
        "df.sort_values(\"Labor_Hours\")"
      ],
      "execution_count": null,
      "outputs": [
        {
          "output_type": "execute_result",
          "data": {
            "text/html": [
              "<div>\n",
              "<style scoped>\n",
              "    .dataframe tbody tr th:only-of-type {\n",
              "        vertical-align: middle;\n",
              "    }\n",
              "\n",
              "    .dataframe tbody tr th {\n",
              "        vertical-align: top;\n",
              "    }\n",
              "\n",
              "    .dataframe thead th {\n",
              "        text-align: right;\n",
              "    }\n",
              "</style>\n",
              "<table border=\"1\" class=\"dataframe\">\n",
              "  <thead>\n",
              "    <tr style=\"text-align: right;\">\n",
              "      <th></th>\n",
              "      <th>Year</th>\n",
              "      <th>ID</th>\n",
              "      <th>Name</th>\n",
              "      <th>State</th>\n",
              "      <th>Columna</th>\n",
              "      <th>County</th>\n",
              "      <th>Status</th>\n",
              "      <th>Type</th>\n",
              "      <th>Company Type</th>\n",
              "      <th>Production</th>\n",
              "      <th>Average Employees</th>\n",
              "      <th>Labor_Hours</th>\n",
              "      <th>date</th>\n",
              "    </tr>\n",
              "  </thead>\n",
              "  <tbody>\n",
              "    <tr>\n",
              "      <th>837</th>\n",
              "      <td>2013.0</td>\n",
              "      <td>3608140.0</td>\n",
              "      <td>Bell Corp</td>\n",
              "      <td>Pennsylvania (Anthracite)</td>\n",
              "      <td>NaN</td>\n",
              "      <td>Schuylkill</td>\n",
              "      <td>Temporarily closed</td>\n",
              "      <td>Surface</td>\n",
              "      <td>Indepedent Producer Operator</td>\n",
              "      <td>23.0</td>\n",
              "      <td>2.0</td>\n",
              "      <td>35.0</td>\n",
              "      <td>2005-09-21</td>\n",
              "    </tr>\n",
              "    <tr>\n",
              "      <th>213</th>\n",
              "      <td>2013.0</td>\n",
              "      <td>1519619.0</td>\n",
              "      <td>No. 1 Auger</td>\n",
              "      <td>Kentucky (East)</td>\n",
              "      <td>NaN</td>\n",
              "      <td>Floyd</td>\n",
              "      <td>Temporarily closed</td>\n",
              "      <td>Surface</td>\n",
              "      <td>Indepedent Producer Operator</td>\n",
              "      <td>700.0</td>\n",
              "      <td>3.0</td>\n",
              "      <td>40.0</td>\n",
              "      <td>2005-07-24</td>\n",
              "    </tr>\n",
              "    <tr>\n",
              "      <th>1437</th>\n",
              "      <td>2013.0</td>\n",
              "      <td>3610027.0</td>\n",
              "      <td>Paradise Bank</td>\n",
              "      <td>Refuse Recovery</td>\n",
              "      <td>NaN</td>\n",
              "      <td>Northumberland</td>\n",
              "      <td>New, under construction</td>\n",
              "      <td>Refuse</td>\n",
              "      <td>Indepedent Producer Operator</td>\n",
              "      <td>52.0</td>\n",
              "      <td>1.0</td>\n",
              "      <td>53.0</td>\n",
              "      <td>2005-07-24</td>\n",
              "    </tr>\n",
              "    <tr>\n",
              "      <th>740</th>\n",
              "      <td>2013.0</td>\n",
              "      <td>3609189.0</td>\n",
              "      <td>Ser #3163</td>\n",
              "      <td>Pennsylvania (Bituminous)</td>\n",
              "      <td>NaN</td>\n",
              "      <td>Indiana</td>\n",
              "      <td>Active</td>\n",
              "      <td>Surface</td>\n",
              "      <td>Indepedent Producer Operator</td>\n",
              "      <td>574.0</td>\n",
              "      <td>1.0</td>\n",
              "      <td>54.0</td>\n",
              "      <td>2001-01-13</td>\n",
              "    </tr>\n",
              "    <tr>\n",
              "      <th>1433</th>\n",
              "      <td>2013.0</td>\n",
              "      <td>1519554.0</td>\n",
              "      <td>No 1</td>\n",
              "      <td>Refuse Recovery</td>\n",
              "      <td>NaN</td>\n",
              "      <td>Harlan</td>\n",
              "      <td>Permanently abandoned</td>\n",
              "      <td>Refuse</td>\n",
              "      <td>Indepedent Producer Operator</td>\n",
              "      <td>8586.0</td>\n",
              "      <td>1.0</td>\n",
              "      <td>133.0</td>\n",
              "      <td>2007-12-07</td>\n",
              "    </tr>\n",
              "    <tr>\n",
              "      <th>...</th>\n",
              "      <td>...</td>\n",
              "      <td>...</td>\n",
              "      <td>...</td>\n",
              "      <td>...</td>\n",
              "      <td>...</td>\n",
              "      <td>...</td>\n",
              "      <td>...</td>\n",
              "      <td>...</td>\n",
              "      <td>...</td>\n",
              "      <td>...</td>\n",
              "      <td>...</td>\n",
              "      <td>...</td>\n",
              "      <td>...</td>\n",
              "    </tr>\n",
              "    <tr>\n",
              "      <th>25</th>\n",
              "      <td>2013.0</td>\n",
              "      <td>101401.0</td>\n",
              "      <td>No 7 Mine</td>\n",
              "      <td>Alabama</td>\n",
              "      <td>NaN</td>\n",
              "      <td>Tuscaloosa</td>\n",
              "      <td>Active</td>\n",
              "      <td>Underground</td>\n",
              "      <td>Operating Subsidiary</td>\n",
              "      <td>5405412.0</td>\n",
              "      <td>989.0</td>\n",
              "      <td>2464719.0</td>\n",
              "      <td>2005-06-25</td>\n",
              "    </tr>\n",
              "    <tr>\n",
              "      <th>1413</th>\n",
              "      <td>2013.0</td>\n",
              "      <td>4801353.0</td>\n",
              "      <td>North Antelope Rochelle Mine</td>\n",
              "      <td>Wyoming</td>\n",
              "      <td>NaN</td>\n",
              "      <td>Campbell</td>\n",
              "      <td>Active</td>\n",
              "      <td>Surface</td>\n",
              "      <td>Operating Subsidiary</td>\n",
              "      <td>111005549.0</td>\n",
              "      <td>1349.0</td>\n",
              "      <td>2811138.0</td>\n",
              "      <td>2006-03-07</td>\n",
              "    </tr>\n",
              "    <tr>\n",
              "      <th>711</th>\n",
              "      <td>2013.0</td>\n",
              "      <td>3607230.0</td>\n",
              "      <td>Bailey Mine</td>\n",
              "      <td>Pennsylvania (Bituminous)</td>\n",
              "      <td>NaN</td>\n",
              "      <td>Greene</td>\n",
              "      <td>Active</td>\n",
              "      <td>Underground</td>\n",
              "      <td>Operating Subsidiary</td>\n",
              "      <td>11321481.0</td>\n",
              "      <td>1222.0</td>\n",
              "      <td>3015772.0</td>\n",
              "      <td>2005-09-30</td>\n",
              "    </tr>\n",
              "    <tr>\n",
              "      <th>1406</th>\n",
              "      <td>2013.0</td>\n",
              "      <td>4800977.0</td>\n",
              "      <td>Black Thunder</td>\n",
              "      <td>Wyoming</td>\n",
              "      <td>NaN</td>\n",
              "      <td>Campbell</td>\n",
              "      <td>Active</td>\n",
              "      <td>Surface</td>\n",
              "      <td>Operating Subsidiary</td>\n",
              "      <td>100687876.0</td>\n",
              "      <td>1585.0</td>\n",
              "      <td>3206295.0</td>\n",
              "      <td>2005-06-25</td>\n",
              "    </tr>\n",
              "    <tr>\n",
              "      <th>1450</th>\n",
              "      <td>NaN</td>\n",
              "      <td>NaN</td>\n",
              "      <td>NaN</td>\n",
              "      <td>NaN</td>\n",
              "      <td>NaN</td>\n",
              "      <td>NaN</td>\n",
              "      <td>NaN</td>\n",
              "      <td>NaN</td>\n",
              "      <td>NaN</td>\n",
              "      <td>984841779.0</td>\n",
              "      <td>NaN</td>\n",
              "      <td>177910757.0</td>\n",
              "      <td>NaT</td>\n",
              "    </tr>\n",
              "  </tbody>\n",
              "</table>\n",
              "<p>1451 rows × 13 columns</p>\n",
              "</div>"
            ],
            "text/plain": [
              "        Year         ID  ...  Labor_Hours       date\n",
              "837   2013.0  3608140.0  ...         35.0 2005-09-21\n",
              "213   2013.0  1519619.0  ...         40.0 2005-07-24\n",
              "1437  2013.0  3610027.0  ...         53.0 2005-07-24\n",
              "740   2013.0  3609189.0  ...         54.0 2001-01-13\n",
              "1433  2013.0  1519554.0  ...        133.0 2007-12-07\n",
              "...      ...        ...  ...          ...        ...\n",
              "25    2013.0   101401.0  ...    2464719.0 2005-06-25\n",
              "1413  2013.0  4801353.0  ...    2811138.0 2006-03-07\n",
              "711   2013.0  3607230.0  ...    3015772.0 2005-09-30\n",
              "1406  2013.0  4800977.0  ...    3206295.0 2005-06-25\n",
              "1450     NaN        NaN  ...  177910757.0        NaT\n",
              "\n",
              "[1451 rows x 13 columns]"
            ]
          },
          "metadata": {
            "tags": []
          },
          "execution_count": 29
        }
      ]
    },
    {
      "cell_type": "markdown",
      "metadata": {
        "id": "tBA4mzPF3axm"
      },
      "source": [
        "Ejercicio 14"
      ]
    },
    {
      "cell_type": "code",
      "metadata": {
        "colab": {
          "base_uri": "https://localhost:8080/",
          "height": 606
        },
        "id": "pf_Y3J-z2vhL",
        "outputId": "22030b55-0195-49ee-9600-21b0e8a50ba5"
      },
      "source": [
        "df[(df[\"date\"] >= '2005-02-01') &(df[\"date\"] >= '2006-11-30')] "
      ],
      "execution_count": null,
      "outputs": [
        {
          "output_type": "execute_result",
          "data": {
            "text/html": [
              "<div>\n",
              "<style scoped>\n",
              "    .dataframe tbody tr th:only-of-type {\n",
              "        vertical-align: middle;\n",
              "    }\n",
              "\n",
              "    .dataframe tbody tr th {\n",
              "        vertical-align: top;\n",
              "    }\n",
              "\n",
              "    .dataframe thead th {\n",
              "        text-align: right;\n",
              "    }\n",
              "</style>\n",
              "<table border=\"1\" class=\"dataframe\">\n",
              "  <thead>\n",
              "    <tr style=\"text-align: right;\">\n",
              "      <th></th>\n",
              "      <th>Year</th>\n",
              "      <th>ID</th>\n",
              "      <th>Name</th>\n",
              "      <th>State</th>\n",
              "      <th>Columna</th>\n",
              "      <th>County</th>\n",
              "      <th>Status</th>\n",
              "      <th>Type</th>\n",
              "      <th>Company Type</th>\n",
              "      <th>Production</th>\n",
              "      <th>Average Employees</th>\n",
              "      <th>Labor_Hours</th>\n",
              "      <th>date</th>\n",
              "    </tr>\n",
              "  </thead>\n",
              "  <tbody>\n",
              "    <tr>\n",
              "      <th>4</th>\n",
              "      <td>2013</td>\n",
              "      <td>103451</td>\n",
              "      <td>Knight Mine</td>\n",
              "      <td>Alabama</td>\n",
              "      <td>NaN</td>\n",
              "      <td>Franklin</td>\n",
              "      <td>Active</td>\n",
              "      <td>Surface</td>\n",
              "      <td>Indepedent Producer Operator</td>\n",
              "      <td>147499</td>\n",
              "      <td>27</td>\n",
              "      <td>46393</td>\n",
              "      <td>2007-05-21</td>\n",
              "    </tr>\n",
              "    <tr>\n",
              "      <th>7</th>\n",
              "      <td>2013</td>\n",
              "      <td>100851</td>\n",
              "      <td>Oak Grove Mine</td>\n",
              "      <td>Alabama</td>\n",
              "      <td>NaN</td>\n",
              "      <td>Jefferson</td>\n",
              "      <td>Active</td>\n",
              "      <td>Underground</td>\n",
              "      <td>Operating Subsidiary</td>\n",
              "      <td>2269014</td>\n",
              "      <td>447</td>\n",
              "      <td>1001809</td>\n",
              "      <td>2007-02-07</td>\n",
              "    </tr>\n",
              "    <tr>\n",
              "      <th>13</th>\n",
              "      <td>2013</td>\n",
              "      <td>103332</td>\n",
              "      <td>Powhatan Mine</td>\n",
              "      <td>Alabama</td>\n",
              "      <td>NaN</td>\n",
              "      <td>Jefferson</td>\n",
              "      <td>Active</td>\n",
              "      <td>Surface</td>\n",
              "      <td>Indepedent Producer Operator</td>\n",
              "      <td>140521</td>\n",
              "      <td>27</td>\n",
              "      <td>61394</td>\n",
              "      <td>2007-12-07</td>\n",
              "    </tr>\n",
              "    <tr>\n",
              "      <th>19</th>\n",
              "      <td>2013</td>\n",
              "      <td>102976</td>\n",
              "      <td>Piney Woods Preparation Plant</td>\n",
              "      <td>Alabama</td>\n",
              "      <td>NaN</td>\n",
              "      <td>Shelby</td>\n",
              "      <td>Active</td>\n",
              "      <td>Underground</td>\n",
              "      <td>Indepedent Producer Operator</td>\n",
              "      <td>0</td>\n",
              "      <td>9</td>\n",
              "      <td>23193</td>\n",
              "      <td>2007-08-10</td>\n",
              "    </tr>\n",
              "    <tr>\n",
              "      <th>24</th>\n",
              "      <td>2013</td>\n",
              "      <td>101247</td>\n",
              "      <td>No 4 Mine</td>\n",
              "      <td>Alabama</td>\n",
              "      <td>NaN</td>\n",
              "      <td>Tuscaloosa</td>\n",
              "      <td>Active</td>\n",
              "      <td>Underground</td>\n",
              "      <td>Operating Subsidiary</td>\n",
              "      <td>2622528</td>\n",
              "      <td>643</td>\n",
              "      <td>1551141</td>\n",
              "      <td>2007-05-21</td>\n",
              "    </tr>\n",
              "    <tr>\n",
              "      <th>...</th>\n",
              "      <td>...</td>\n",
              "      <td>...</td>\n",
              "      <td>...</td>\n",
              "      <td>...</td>\n",
              "      <td>...</td>\n",
              "      <td>...</td>\n",
              "      <td>...</td>\n",
              "      <td>...</td>\n",
              "      <td>...</td>\n",
              "      <td>...</td>\n",
              "      <td>...</td>\n",
              "      <td>...</td>\n",
              "      <td>...</td>\n",
              "    </tr>\n",
              "    <tr>\n",
              "      <th>1424</th>\n",
              "      <td>2013</td>\n",
              "      <td>4605995</td>\n",
              "      <td>Preparation Plant No 1</td>\n",
              "      <td>Refuse Recovery</td>\n",
              "      <td>NaN</td>\n",
              "      <td>Monongalia</td>\n",
              "      <td>Active</td>\n",
              "      <td>Refuse</td>\n",
              "      <td>Operating Subsidiary</td>\n",
              "      <td>89504</td>\n",
              "      <td>8</td>\n",
              "      <td>19863</td>\n",
              "      <td>2007-05-21</td>\n",
              "    </tr>\n",
              "    <tr>\n",
              "      <th>1427</th>\n",
              "      <td>2013</td>\n",
              "      <td>3609442</td>\n",
              "      <td>Ernest</td>\n",
              "      <td>Refuse Recovery</td>\n",
              "      <td>NaN</td>\n",
              "      <td>Indiana</td>\n",
              "      <td>Active</td>\n",
              "      <td>Refuse</td>\n",
              "      <td>Indepedent Producer Operator</td>\n",
              "      <td>748276</td>\n",
              "      <td>7</td>\n",
              "      <td>15854</td>\n",
              "      <td>2007-02-07</td>\n",
              "    </tr>\n",
              "    <tr>\n",
              "      <th>1433</th>\n",
              "      <td>2013</td>\n",
              "      <td>1519554</td>\n",
              "      <td>No 1</td>\n",
              "      <td>Refuse Recovery</td>\n",
              "      <td>NaN</td>\n",
              "      <td>Harlan</td>\n",
              "      <td>Permanently abandoned</td>\n",
              "      <td>Refuse</td>\n",
              "      <td>Indepedent Producer Operator</td>\n",
              "      <td>8586</td>\n",
              "      <td>1</td>\n",
              "      <td>133</td>\n",
              "      <td>2007-12-07</td>\n",
              "    </tr>\n",
              "    <tr>\n",
              "      <th>1443</th>\n",
              "      <td>2013</td>\n",
              "      <td>1518401</td>\n",
              "      <td>No. 1</td>\n",
              "      <td>Refuse Recovery</td>\n",
              "      <td>NaN</td>\n",
              "      <td>Letcher</td>\n",
              "      <td>Temporarily closed</td>\n",
              "      <td>Refuse</td>\n",
              "      <td>Indepedent Producer Operator</td>\n",
              "      <td>94748</td>\n",
              "      <td>4</td>\n",
              "      <td>6337</td>\n",
              "      <td>2007-05-21</td>\n",
              "    </tr>\n",
              "    <tr>\n",
              "      <th>1446</th>\n",
              "      <td>2013</td>\n",
              "      <td>1102636</td>\n",
              "      <td>Wfi</td>\n",
              "      <td>Refuse Recovery</td>\n",
              "      <td>NaN</td>\n",
              "      <td>Saline</td>\n",
              "      <td>Active, men working, not producing</td>\n",
              "      <td>Refuse</td>\n",
              "      <td>Indepedent Producer Operator</td>\n",
              "      <td>5070</td>\n",
              "      <td>4</td>\n",
              "      <td>1449</td>\n",
              "      <td>2007-02-07</td>\n",
              "    </tr>\n",
              "  </tbody>\n",
              "</table>\n",
              "<p>257 rows × 13 columns</p>\n",
              "</div>"
            ],
            "text/plain": [
              "      Year       ID  ... Labor_Hours       date\n",
              "4     2013   103451  ...       46393 2007-05-21\n",
              "7     2013   100851  ...     1001809 2007-02-07\n",
              "13    2013   103332  ...       61394 2007-12-07\n",
              "19    2013   102976  ...       23193 2007-08-10\n",
              "24    2013   101247  ...     1551141 2007-05-21\n",
              "...    ...      ...  ...         ...        ...\n",
              "1424  2013  4605995  ...       19863 2007-05-21\n",
              "1427  2013  3609442  ...       15854 2007-02-07\n",
              "1433  2013  1519554  ...         133 2007-12-07\n",
              "1443  2013  1518401  ...        6337 2007-05-21\n",
              "1446  2013  1102636  ...        1449 2007-02-07\n",
              "\n",
              "[257 rows x 13 columns]"
            ]
          },
          "metadata": {
            "tags": []
          },
          "execution_count": 16
        }
      ]
    },
    {
      "cell_type": "markdown",
      "metadata": {
        "id": "Kd4Kclsu_vN0"
      },
      "source": [
        "Ejercicio 15"
      ]
    },
    {
      "cell_type": "code",
      "metadata": {
        "colab": {
          "base_uri": "https://localhost:8080/",
          "height": 606
        },
        "id": "jAK88w0Q6NvC",
        "outputId": "28a4b3d8-6fa8-49ae-aec6-b0010c644c26"
      },
      "source": [
        "df[df[\"date\"].dt.year == 2005]\n"
      ],
      "execution_count": null,
      "outputs": [
        {
          "output_type": "execute_result",
          "data": {
            "text/html": [
              "<div>\n",
              "<style scoped>\n",
              "    .dataframe tbody tr th:only-of-type {\n",
              "        vertical-align: middle;\n",
              "    }\n",
              "\n",
              "    .dataframe tbody tr th {\n",
              "        vertical-align: top;\n",
              "    }\n",
              "\n",
              "    .dataframe thead th {\n",
              "        text-align: right;\n",
              "    }\n",
              "</style>\n",
              "<table border=\"1\" class=\"dataframe\">\n",
              "  <thead>\n",
              "    <tr style=\"text-align: right;\">\n",
              "      <th></th>\n",
              "      <th>Year</th>\n",
              "      <th>ID</th>\n",
              "      <th>Name</th>\n",
              "      <th>State</th>\n",
              "      <th>Columna</th>\n",
              "      <th>County</th>\n",
              "      <th>Status</th>\n",
              "      <th>Type</th>\n",
              "      <th>Company Type</th>\n",
              "      <th>Production</th>\n",
              "      <th>Average Employees</th>\n",
              "      <th>Labor_Hours</th>\n",
              "      <th>date</th>\n",
              "    </tr>\n",
              "  </thead>\n",
              "  <tbody>\n",
              "    <tr>\n",
              "      <th>1</th>\n",
              "      <td>2013</td>\n",
              "      <td>103404</td>\n",
              "      <td>Reid School Mine</td>\n",
              "      <td>Alabama</td>\n",
              "      <td>NaN</td>\n",
              "      <td>Blount</td>\n",
              "      <td>Permanently abandoned</td>\n",
              "      <td>Surface</td>\n",
              "      <td>Indepedent Producer Operator</td>\n",
              "      <td>28807</td>\n",
              "      <td>18</td>\n",
              "      <td>28447</td>\n",
              "      <td>2005-09-21</td>\n",
              "    </tr>\n",
              "    <tr>\n",
              "      <th>5</th>\n",
              "      <td>2013</td>\n",
              "      <td>103433</td>\n",
              "      <td>Crane Central Mine</td>\n",
              "      <td>Alabama</td>\n",
              "      <td>NaN</td>\n",
              "      <td>Jackson</td>\n",
              "      <td>Temporarily closed</td>\n",
              "      <td>Surface</td>\n",
              "      <td>Indepedent Producer Operator</td>\n",
              "      <td>69339</td>\n",
              "      <td>27</td>\n",
              "      <td>47195</td>\n",
              "      <td>2005-06-25</td>\n",
              "    </tr>\n",
              "    <tr>\n",
              "      <th>10</th>\n",
              "      <td>2013</td>\n",
              "      <td>103180</td>\n",
              "      <td>Sloan Mountain Mine</td>\n",
              "      <td>Alabama</td>\n",
              "      <td>NaN</td>\n",
              "      <td>Jefferson</td>\n",
              "      <td>Active</td>\n",
              "      <td>Surface</td>\n",
              "      <td>Indepedent Producer Operator</td>\n",
              "      <td>327780</td>\n",
              "      <td>84</td>\n",
              "      <td>196963</td>\n",
              "      <td>2005-09-28</td>\n",
              "    </tr>\n",
              "    <tr>\n",
              "      <th>11</th>\n",
              "      <td>2013</td>\n",
              "      <td>103182</td>\n",
              "      <td>Fishtrap</td>\n",
              "      <td>Alabama</td>\n",
              "      <td>NaN</td>\n",
              "      <td>Jefferson</td>\n",
              "      <td>Active</td>\n",
              "      <td>Surface</td>\n",
              "      <td>Operating Subsidiary</td>\n",
              "      <td>175058</td>\n",
              "      <td>30</td>\n",
              "      <td>87314</td>\n",
              "      <td>2005-09-30</td>\n",
              "    </tr>\n",
              "    <tr>\n",
              "      <th>16</th>\n",
              "      <td>2013</td>\n",
              "      <td>103432</td>\n",
              "      <td>Skelton Creek</td>\n",
              "      <td>Alabama</td>\n",
              "      <td>NaN</td>\n",
              "      <td>Jefferson</td>\n",
              "      <td>Temporarily closed</td>\n",
              "      <td>Surface</td>\n",
              "      <td>Indepedent Producer Operator</td>\n",
              "      <td>8252</td>\n",
              "      <td>3</td>\n",
              "      <td>220</td>\n",
              "      <td>2005-12-24</td>\n",
              "    </tr>\n",
              "    <tr>\n",
              "      <th>...</th>\n",
              "      <td>...</td>\n",
              "      <td>...</td>\n",
              "      <td>...</td>\n",
              "      <td>...</td>\n",
              "      <td>...</td>\n",
              "      <td>...</td>\n",
              "      <td>...</td>\n",
              "      <td>...</td>\n",
              "      <td>...</td>\n",
              "      <td>...</td>\n",
              "      <td>...</td>\n",
              "      <td>...</td>\n",
              "      <td>...</td>\n",
              "    </tr>\n",
              "    <tr>\n",
              "      <th>1436</th>\n",
              "      <td>2013</td>\n",
              "      <td>3609843</td>\n",
              "      <td>Atlas Anthracite Coal Corporat</td>\n",
              "      <td>Refuse Recovery</td>\n",
              "      <td>NaN</td>\n",
              "      <td>Northumberland</td>\n",
              "      <td>Active</td>\n",
              "      <td>Refuse</td>\n",
              "      <td>Indepedent Producer Operator</td>\n",
              "      <td>28055</td>\n",
              "      <td>8</td>\n",
              "      <td>13036</td>\n",
              "      <td>2005-12-24</td>\n",
              "    </tr>\n",
              "    <tr>\n",
              "      <th>1437</th>\n",
              "      <td>2013</td>\n",
              "      <td>3610027</td>\n",
              "      <td>Paradise Bank</td>\n",
              "      <td>Refuse Recovery</td>\n",
              "      <td>NaN</td>\n",
              "      <td>Northumberland</td>\n",
              "      <td>New, under construction</td>\n",
              "      <td>Refuse</td>\n",
              "      <td>Indepedent Producer Operator</td>\n",
              "      <td>52</td>\n",
              "      <td>1</td>\n",
              "      <td>53</td>\n",
              "      <td>2005-07-24</td>\n",
              "    </tr>\n",
              "    <tr>\n",
              "      <th>1440</th>\n",
              "      <td>2013</td>\n",
              "      <td>3609405</td>\n",
              "      <td>Phoenix</td>\n",
              "      <td>Refuse Recovery</td>\n",
              "      <td>NaN</td>\n",
              "      <td>Washington</td>\n",
              "      <td>Active</td>\n",
              "      <td>Refuse</td>\n",
              "      <td>Indepedent Producer Operator</td>\n",
              "      <td>4473</td>\n",
              "      <td>5</td>\n",
              "      <td>5670</td>\n",
              "      <td>2005-09-21</td>\n",
              "    </tr>\n",
              "    <tr>\n",
              "      <th>1444</th>\n",
              "      <td>2013</td>\n",
              "      <td>1519713</td>\n",
              "      <td># 1 Refuse</td>\n",
              "      <td>Refuse Recovery</td>\n",
              "      <td>NaN</td>\n",
              "      <td>Letcher</td>\n",
              "      <td>Active, men working, not producing</td>\n",
              "      <td>Refuse</td>\n",
              "      <td>Indepedent Producer Operator</td>\n",
              "      <td>1879</td>\n",
              "      <td>2</td>\n",
              "      <td>200</td>\n",
              "      <td>2005-06-25</td>\n",
              "    </tr>\n",
              "    <tr>\n",
              "      <th>1449</th>\n",
              "      <td>2013</td>\n",
              "      <td>1519685</td>\n",
              "      <td>Fedscreek Refuse Pile</td>\n",
              "      <td>Refuse Recovery</td>\n",
              "      <td>NaN</td>\n",
              "      <td>Pike</td>\n",
              "      <td>Active, men working, not producing</td>\n",
              "      <td>Refuse</td>\n",
              "      <td>Indepedent Producer Operator</td>\n",
              "      <td>17357</td>\n",
              "      <td>3</td>\n",
              "      <td>1020</td>\n",
              "      <td>2005-09-28</td>\n",
              "    </tr>\n",
              "  </tbody>\n",
              "</table>\n",
              "<p>447 rows × 13 columns</p>\n",
              "</div>"
            ],
            "text/plain": [
              "      Year       ID  ... Labor_Hours       date\n",
              "1     2013   103404  ...       28447 2005-09-21\n",
              "5     2013   103433  ...       47195 2005-06-25\n",
              "10    2013   103180  ...      196963 2005-09-28\n",
              "11    2013   103182  ...       87314 2005-09-30\n",
              "16    2013   103432  ...         220 2005-12-24\n",
              "...    ...      ...  ...         ...        ...\n",
              "1436  2013  3609843  ...       13036 2005-12-24\n",
              "1437  2013  3610027  ...          53 2005-07-24\n",
              "1440  2013  3609405  ...        5670 2005-09-21\n",
              "1444  2013  1519713  ...         200 2005-06-25\n",
              "1449  2013  1519685  ...        1020 2005-09-28\n",
              "\n",
              "[447 rows x 13 columns]"
            ]
          },
          "metadata": {
            "tags": []
          },
          "execution_count": 17
        }
      ]
    },
    {
      "cell_type": "markdown",
      "metadata": {
        "id": "4MQ22wyzs7E6"
      },
      "source": [
        "Ejercicio 16"
      ]
    },
    {
      "cell_type": "code",
      "metadata": {
        "colab": {
          "base_uri": "https://localhost:8080/",
          "height": 708
        },
        "id": "BPWFBDyj9DcC",
        "outputId": "200a6abe-8de9-409d-c415-a85ea442aad5"
      },
      "source": [
        "df.sort_values(by =[\"ID\",\"date\"],ascending=[0,1])\n"
      ],
      "execution_count": null,
      "outputs": [
        {
          "output_type": "execute_result",
          "data": {
            "text/html": [
              "<div>\n",
              "<style scoped>\n",
              "    .dataframe tbody tr th:only-of-type {\n",
              "        vertical-align: middle;\n",
              "    }\n",
              "\n",
              "    .dataframe tbody tr th {\n",
              "        vertical-align: top;\n",
              "    }\n",
              "\n",
              "    .dataframe thead th {\n",
              "        text-align: right;\n",
              "    }\n",
              "</style>\n",
              "<table border=\"1\" class=\"dataframe\">\n",
              "  <thead>\n",
              "    <tr style=\"text-align: right;\">\n",
              "      <th></th>\n",
              "      <th>Year</th>\n",
              "      <th>ID</th>\n",
              "      <th>Name</th>\n",
              "      <th>State</th>\n",
              "      <th>Columna</th>\n",
              "      <th>County</th>\n",
              "      <th>Status</th>\n",
              "      <th>Type</th>\n",
              "      <th>Company Type</th>\n",
              "      <th>Production</th>\n",
              "      <th>Average Employees</th>\n",
              "      <th>Labor_Hours</th>\n",
              "      <th>date</th>\n",
              "    </tr>\n",
              "  </thead>\n",
              "  <tbody>\n",
              "    <tr>\n",
              "      <th>48</th>\n",
              "      <td>2013</td>\n",
              "      <td>5000030</td>\n",
              "      <td>Usibelli</td>\n",
              "      <td>Alaska</td>\n",
              "      <td>NaN</td>\n",
              "      <td>Fairbanks North Star</td>\n",
              "      <td>Active</td>\n",
              "      <td>Surface</td>\n",
              "      <td>Indepedent Producer Operator</td>\n",
              "      <td>1631584</td>\n",
              "      <td>125</td>\n",
              "      <td>286079</td>\n",
              "      <td>2002-08-17</td>\n",
              "    </tr>\n",
              "    <tr>\n",
              "      <th>1420</th>\n",
              "      <td>2013</td>\n",
              "      <td>4801646</td>\n",
              "      <td>Bridger Underground Coal Mine</td>\n",
              "      <td>Wyoming</td>\n",
              "      <td>NaN</td>\n",
              "      <td>Sweetwater</td>\n",
              "      <td>Active</td>\n",
              "      <td>Underground</td>\n",
              "      <td>Operating Subsidiary</td>\n",
              "      <td>4442616</td>\n",
              "      <td>278</td>\n",
              "      <td>661265</td>\n",
              "      <td>2003-06-17</td>\n",
              "    </tr>\n",
              "    <tr>\n",
              "      <th>61</th>\n",
              "      <td>2013</td>\n",
              "      <td>4801645</td>\n",
              "      <td>Addcar System 18 Hwm Serial No</td>\n",
              "      <td>Colorado</td>\n",
              "      <td>NaN</td>\n",
              "      <td>Rio Blanco</td>\n",
              "      <td>Active</td>\n",
              "      <td>Surface</td>\n",
              "      <td>Indepedent Producer Operator</td>\n",
              "      <td>350060</td>\n",
              "      <td>17</td>\n",
              "      <td>35687</td>\n",
              "      <td>2001-01-13</td>\n",
              "    </tr>\n",
              "    <tr>\n",
              "      <th>1414</th>\n",
              "      <td>2013</td>\n",
              "      <td>4801429</td>\n",
              "      <td>Dry Fork Mine</td>\n",
              "      <td>Wyoming</td>\n",
              "      <td>NaN</td>\n",
              "      <td>Campbell</td>\n",
              "      <td>Active</td>\n",
              "      <td>Surface</td>\n",
              "      <td>Operating Subsidiary</td>\n",
              "      <td>5433936</td>\n",
              "      <td>78</td>\n",
              "      <td>161270</td>\n",
              "      <td>2007-12-07</td>\n",
              "    </tr>\n",
              "    <tr>\n",
              "      <th>1413</th>\n",
              "      <td>2013</td>\n",
              "      <td>4801353</td>\n",
              "      <td>North Antelope Rochelle Mine</td>\n",
              "      <td>Wyoming</td>\n",
              "      <td>NaN</td>\n",
              "      <td>Campbell</td>\n",
              "      <td>Active</td>\n",
              "      <td>Surface</td>\n",
              "      <td>Operating Subsidiary</td>\n",
              "      <td>111005549</td>\n",
              "      <td>1349</td>\n",
              "      <td>2811138</td>\n",
              "      <td>2006-03-07</td>\n",
              "    </tr>\n",
              "    <tr>\n",
              "      <th>...</th>\n",
              "      <td>...</td>\n",
              "      <td>...</td>\n",
              "      <td>...</td>\n",
              "      <td>...</td>\n",
              "      <td>...</td>\n",
              "      <td>...</td>\n",
              "      <td>...</td>\n",
              "      <td>...</td>\n",
              "      <td>...</td>\n",
              "      <td>...</td>\n",
              "      <td>...</td>\n",
              "      <td>...</td>\n",
              "      <td>...</td>\n",
              "    </tr>\n",
              "    <tr>\n",
              "      <th>7</th>\n",
              "      <td>2013</td>\n",
              "      <td>100851</td>\n",
              "      <td>Oak Grove Mine</td>\n",
              "      <td>Alabama</td>\n",
              "      <td>NaN</td>\n",
              "      <td>Jefferson</td>\n",
              "      <td>Active</td>\n",
              "      <td>Underground</td>\n",
              "      <td>Operating Subsidiary</td>\n",
              "      <td>2269014</td>\n",
              "      <td>447</td>\n",
              "      <td>1001809</td>\n",
              "      <td>2007-02-07</td>\n",
              "    </tr>\n",
              "    <tr>\n",
              "      <th>2</th>\n",
              "      <td>2013</td>\n",
              "      <td>100759</td>\n",
              "      <td>North River #1 Underground Min</td>\n",
              "      <td>Alabama</td>\n",
              "      <td>NaN</td>\n",
              "      <td>Fayette</td>\n",
              "      <td>Active, men working, not producing</td>\n",
              "      <td>Underground</td>\n",
              "      <td>Indepedent Producer Operator</td>\n",
              "      <td>1440115</td>\n",
              "      <td>183</td>\n",
              "      <td>474784</td>\n",
              "      <td>2001-01-13</td>\n",
              "    </tr>\n",
              "    <tr>\n",
              "      <th>1441</th>\n",
              "      <td>2013</td>\n",
              "      <td>100515</td>\n",
              "      <td>Mary Lee # 1 Mine</td>\n",
              "      <td>Refuse Recovery</td>\n",
              "      <td>NaN</td>\n",
              "      <td>Walker</td>\n",
              "      <td>Active, men working, not producing</td>\n",
              "      <td>Refuse</td>\n",
              "      <td>Indepedent Producer Operator</td>\n",
              "      <td>8400</td>\n",
              "      <td>4</td>\n",
              "      <td>6240</td>\n",
              "      <td>2001-01-13</td>\n",
              "    </tr>\n",
              "    <tr>\n",
              "      <th>32</th>\n",
              "      <td>2013</td>\n",
              "      <td>100347</td>\n",
              "      <td>Choctaw Mine</td>\n",
              "      <td>Alabama</td>\n",
              "      <td>NaN</td>\n",
              "      <td>Walker</td>\n",
              "      <td>Active</td>\n",
              "      <td>Surface</td>\n",
              "      <td>Indepedent Producer Operator</td>\n",
              "      <td>537429</td>\n",
              "      <td>82</td>\n",
              "      <td>215295</td>\n",
              "      <td>2006-03-07</td>\n",
              "    </tr>\n",
              "    <tr>\n",
              "      <th>6</th>\n",
              "      <td>2013</td>\n",
              "      <td>100329</td>\n",
              "      <td>Concord Mine</td>\n",
              "      <td>Alabama</td>\n",
              "      <td>NaN</td>\n",
              "      <td>Jefferson</td>\n",
              "      <td>Active</td>\n",
              "      <td>Underground</td>\n",
              "      <td>Operating Subsidiary</td>\n",
              "      <td>0</td>\n",
              "      <td>59</td>\n",
              "      <td>144002</td>\n",
              "      <td>2006-02-05</td>\n",
              "    </tr>\n",
              "  </tbody>\n",
              "</table>\n",
              "<p>1450 rows × 13 columns</p>\n",
              "</div>"
            ],
            "text/plain": [
              "      Year       ID  ... Labor_Hours       date\n",
              "48    2013  5000030  ...      286079 2002-08-17\n",
              "1420  2013  4801646  ...      661265 2003-06-17\n",
              "61    2013  4801645  ...       35687 2001-01-13\n",
              "1414  2013  4801429  ...      161270 2007-12-07\n",
              "1413  2013  4801353  ...     2811138 2006-03-07\n",
              "...    ...      ...  ...         ...        ...\n",
              "7     2013   100851  ...     1001809 2007-02-07\n",
              "2     2013   100759  ...      474784 2001-01-13\n",
              "1441  2013   100515  ...        6240 2001-01-13\n",
              "32    2013   100347  ...      215295 2006-03-07\n",
              "6     2013   100329  ...      144002 2006-02-05\n",
              "\n",
              "[1450 rows x 13 columns]"
            ]
          },
          "metadata": {
            "tags": []
          },
          "execution_count": 18
        }
      ]
    },
    {
      "cell_type": "code",
      "metadata": {
        "id": "UO_iUJZqvHVh"
      },
      "source": [
        ""
      ],
      "execution_count": null,
      "outputs": []
    },
    {
      "cell_type": "markdown",
      "metadata": {
        "id": "jI3UoKTnvI7m"
      },
      "source": [
        "EJERCICIO 17"
      ]
    },
    {
      "cell_type": "code",
      "metadata": {
        "colab": {
          "resources": {
            "http://localhost:8080/nbextensions/google.colab/files.js": {
              "data": "Ly8gQ29weXJpZ2h0IDIwMTcgR29vZ2xlIExMQwovLwovLyBMaWNlbnNlZCB1bmRlciB0aGUgQXBhY2hlIExpY2Vuc2UsIFZlcnNpb24gMi4wICh0aGUgIkxpY2Vuc2UiKTsKLy8geW91IG1heSBub3QgdXNlIHRoaXMgZmlsZSBleGNlcHQgaW4gY29tcGxpYW5jZSB3aXRoIHRoZSBMaWNlbnNlLgovLyBZb3UgbWF5IG9idGFpbiBhIGNvcHkgb2YgdGhlIExpY2Vuc2UgYXQKLy8KLy8gICAgICBodHRwOi8vd3d3LmFwYWNoZS5vcmcvbGljZW5zZXMvTElDRU5TRS0yLjAKLy8KLy8gVW5sZXNzIHJlcXVpcmVkIGJ5IGFwcGxpY2FibGUgbGF3IG9yIGFncmVlZCB0byBpbiB3cml0aW5nLCBzb2Z0d2FyZQovLyBkaXN0cmlidXRlZCB1bmRlciB0aGUgTGljZW5zZSBpcyBkaXN0cmlidXRlZCBvbiBhbiAiQVMgSVMiIEJBU0lTLAovLyBXSVRIT1VUIFdBUlJBTlRJRVMgT1IgQ09ORElUSU9OUyBPRiBBTlkgS0lORCwgZWl0aGVyIGV4cHJlc3Mgb3IgaW1wbGllZC4KLy8gU2VlIHRoZSBMaWNlbnNlIGZvciB0aGUgc3BlY2lmaWMgbGFuZ3VhZ2UgZ292ZXJuaW5nIHBlcm1pc3Npb25zIGFuZAovLyBsaW1pdGF0aW9ucyB1bmRlciB0aGUgTGljZW5zZS4KCi8qKgogKiBAZmlsZW92ZXJ2aWV3IEhlbHBlcnMgZm9yIGdvb2dsZS5jb2xhYiBQeXRob24gbW9kdWxlLgogKi8KKGZ1bmN0aW9uKHNjb3BlKSB7CmZ1bmN0aW9uIHNwYW4odGV4dCwgc3R5bGVBdHRyaWJ1dGVzID0ge30pIHsKICBjb25zdCBlbGVtZW50ID0gZG9jdW1lbnQuY3JlYXRlRWxlbWVudCgnc3BhbicpOwogIGVsZW1lbnQudGV4dENvbnRlbnQgPSB0ZXh0OwogIGZvciAoY29uc3Qga2V5IG9mIE9iamVjdC5rZXlzKHN0eWxlQXR0cmlidXRlcykpIHsKICAgIGVsZW1lbnQuc3R5bGVba2V5XSA9IHN0eWxlQXR0cmlidXRlc1trZXldOwogIH0KICByZXR1cm4gZWxlbWVudDsKfQoKLy8gTWF4IG51bWJlciBvZiBieXRlcyB3aGljaCB3aWxsIGJlIHVwbG9hZGVkIGF0IGEgdGltZS4KY29uc3QgTUFYX1BBWUxPQURfU0laRSA9IDEwMCAqIDEwMjQ7CgpmdW5jdGlvbiBfdXBsb2FkRmlsZXMoaW5wdXRJZCwgb3V0cHV0SWQpIHsKICBjb25zdCBzdGVwcyA9IHVwbG9hZEZpbGVzU3RlcChpbnB1dElkLCBvdXRwdXRJZCk7CiAgY29uc3Qgb3V0cHV0RWxlbWVudCA9IGRvY3VtZW50LmdldEVsZW1lbnRCeUlkKG91dHB1dElkKTsKICAvLyBDYWNoZSBzdGVwcyBvbiB0aGUgb3V0cHV0RWxlbWVudCB0byBtYWtlIGl0IGF2YWlsYWJsZSBmb3IgdGhlIG5leHQgY2FsbAogIC8vIHRvIHVwbG9hZEZpbGVzQ29udGludWUgZnJvbSBQeXRob24uCiAgb3V0cHV0RWxlbWVudC5zdGVwcyA9IHN0ZXBzOwoKICByZXR1cm4gX3VwbG9hZEZpbGVzQ29udGludWUob3V0cHV0SWQpOwp9CgovLyBUaGlzIGlzIHJvdWdobHkgYW4gYXN5bmMgZ2VuZXJhdG9yIChub3Qgc3VwcG9ydGVkIGluIHRoZSBicm93c2VyIHlldCksCi8vIHdoZXJlIHRoZXJlIGFyZSBtdWx0aXBsZSBhc3luY2hyb25vdXMgc3RlcHMgYW5kIHRoZSBQeXRob24gc2lkZSBpcyBnb2luZwovLyB0byBwb2xsIGZvciBjb21wbGV0aW9uIG9mIGVhY2ggc3RlcC4KLy8gVGhpcyB1c2VzIGEgUHJvbWlzZSB0byBibG9jayB0aGUgcHl0aG9uIHNpZGUgb24gY29tcGxldGlvbiBvZiBlYWNoIHN0ZXAsCi8vIHRoZW4gcGFzc2VzIHRoZSByZXN1bHQgb2YgdGhlIHByZXZpb3VzIHN0ZXAgYXMgdGhlIGlucHV0IHRvIHRoZSBuZXh0IHN0ZXAuCmZ1bmN0aW9uIF91cGxvYWRGaWxlc0NvbnRpbnVlKG91dHB1dElkKSB7CiAgY29uc3Qgb3V0cHV0RWxlbWVudCA9IGRvY3VtZW50LmdldEVsZW1lbnRCeUlkKG91dHB1dElkKTsKICBjb25zdCBzdGVwcyA9IG91dHB1dEVsZW1lbnQuc3RlcHM7CgogIGNvbnN0IG5leHQgPSBzdGVwcy5uZXh0KG91dHB1dEVsZW1lbnQubGFzdFByb21pc2VWYWx1ZSk7CiAgcmV0dXJuIFByb21pc2UucmVzb2x2ZShuZXh0LnZhbHVlLnByb21pc2UpLnRoZW4oKHZhbHVlKSA9PiB7CiAgICAvLyBDYWNoZSB0aGUgbGFzdCBwcm9taXNlIHZhbHVlIHRvIG1ha2UgaXQgYXZhaWxhYmxlIHRvIHRoZSBuZXh0CiAgICAvLyBzdGVwIG9mIHRoZSBnZW5lcmF0b3IuCiAgICBvdXRwdXRFbGVtZW50Lmxhc3RQcm9taXNlVmFsdWUgPSB2YWx1ZTsKICAgIHJldHVybiBuZXh0LnZhbHVlLnJlc3BvbnNlOwogIH0pOwp9CgovKioKICogR2VuZXJhdG9yIGZ1bmN0aW9uIHdoaWNoIGlzIGNhbGxlZCBiZXR3ZWVuIGVhY2ggYXN5bmMgc3RlcCBvZiB0aGUgdXBsb2FkCiAqIHByb2Nlc3MuCiAqIEBwYXJhbSB7c3RyaW5nfSBpbnB1dElkIEVsZW1lbnQgSUQgb2YgdGhlIGlucHV0IGZpbGUgcGlja2VyIGVsZW1lbnQuCiAqIEBwYXJhbSB7c3RyaW5nfSBvdXRwdXRJZCBFbGVtZW50IElEIG9mIHRoZSBvdXRwdXQgZGlzcGxheS4KICogQHJldHVybiB7IUl0ZXJhYmxlPCFPYmplY3Q+fSBJdGVyYWJsZSBvZiBuZXh0IHN0ZXBzLgogKi8KZnVuY3Rpb24qIHVwbG9hZEZpbGVzU3RlcChpbnB1dElkLCBvdXRwdXRJZCkgewogIGNvbnN0IGlucHV0RWxlbWVudCA9IGRvY3VtZW50LmdldEVsZW1lbnRCeUlkKGlucHV0SWQpOwogIGlucHV0RWxlbWVudC5kaXNhYmxlZCA9IGZhbHNlOwoKICBjb25zdCBvdXRwdXRFbGVtZW50ID0gZG9jdW1lbnQuZ2V0RWxlbWVudEJ5SWQob3V0cHV0SWQpOwogIG91dHB1dEVsZW1lbnQuaW5uZXJIVE1MID0gJyc7CgogIGNvbnN0IHBpY2tlZFByb21pc2UgPSBuZXcgUHJvbWlzZSgocmVzb2x2ZSkgPT4gewogICAgaW5wdXRFbGVtZW50LmFkZEV2ZW50TGlzdGVuZXIoJ2NoYW5nZScsIChlKSA9PiB7CiAgICAgIHJlc29sdmUoZS50YXJnZXQuZmlsZXMpOwogICAgfSk7CiAgfSk7CgogIGNvbnN0IGNhbmNlbCA9IGRvY3VtZW50LmNyZWF0ZUVsZW1lbnQoJ2J1dHRvbicpOwogIGlucHV0RWxlbWVudC5wYXJlbnRFbGVtZW50LmFwcGVuZENoaWxkKGNhbmNlbCk7CiAgY2FuY2VsLnRleHRDb250ZW50ID0gJ0NhbmNlbCB1cGxvYWQnOwogIGNvbnN0IGNhbmNlbFByb21pc2UgPSBuZXcgUHJvbWlzZSgocmVzb2x2ZSkgPT4gewogICAgY2FuY2VsLm9uY2xpY2sgPSAoKSA9PiB7CiAgICAgIHJlc29sdmUobnVsbCk7CiAgICB9OwogIH0pOwoKICAvLyBXYWl0IGZvciB0aGUgdXNlciB0byBwaWNrIHRoZSBmaWxlcy4KICBjb25zdCBmaWxlcyA9IHlpZWxkIHsKICAgIHByb21pc2U6IFByb21pc2UucmFjZShbcGlja2VkUHJvbWlzZSwgY2FuY2VsUHJvbWlzZV0pLAogICAgcmVzcG9uc2U6IHsKICAgICAgYWN0aW9uOiAnc3RhcnRpbmcnLAogICAgfQogIH07CgogIGNhbmNlbC5yZW1vdmUoKTsKCiAgLy8gRGlzYWJsZSB0aGUgaW5wdXQgZWxlbWVudCBzaW5jZSBmdXJ0aGVyIHBpY2tzIGFyZSBub3QgYWxsb3dlZC4KICBpbnB1dEVsZW1lbnQuZGlzYWJsZWQgPSB0cnVlOwoKICBpZiAoIWZpbGVzKSB7CiAgICByZXR1cm4gewogICAgICByZXNwb25zZTogewogICAgICAgIGFjdGlvbjogJ2NvbXBsZXRlJywKICAgICAgfQogICAgfTsKICB9CgogIGZvciAoY29uc3QgZmlsZSBvZiBmaWxlcykgewogICAgY29uc3QgbGkgPSBkb2N1bWVudC5jcmVhdGVFbGVtZW50KCdsaScpOwogICAgbGkuYXBwZW5kKHNwYW4oZmlsZS5uYW1lLCB7Zm9udFdlaWdodDogJ2JvbGQnfSkpOwogICAgbGkuYXBwZW5kKHNwYW4oCiAgICAgICAgYCgke2ZpbGUudHlwZSB8fCAnbi9hJ30pIC0gJHtmaWxlLnNpemV9IGJ5dGVzLCBgICsKICAgICAgICBgbGFzdCBtb2RpZmllZDogJHsKICAgICAgICAgICAgZmlsZS5sYXN0TW9kaWZpZWREYXRlID8gZmlsZS5sYXN0TW9kaWZpZWREYXRlLnRvTG9jYWxlRGF0ZVN0cmluZygpIDoKICAgICAgICAgICAgICAgICAgICAgICAgICAgICAgICAgICAgJ24vYSd9IC0gYCkpOwogICAgY29uc3QgcGVyY2VudCA9IHNwYW4oJzAlIGRvbmUnKTsKICAgIGxpLmFwcGVuZENoaWxkKHBlcmNlbnQpOwoKICAgIG91dHB1dEVsZW1lbnQuYXBwZW5kQ2hpbGQobGkpOwoKICAgIGNvbnN0IGZpbGVEYXRhUHJvbWlzZSA9IG5ldyBQcm9taXNlKChyZXNvbHZlKSA9PiB7CiAgICAgIGNvbnN0IHJlYWRlciA9IG5ldyBGaWxlUmVhZGVyKCk7CiAgICAgIHJlYWRlci5vbmxvYWQgPSAoZSkgPT4gewogICAgICAgIHJlc29sdmUoZS50YXJnZXQucmVzdWx0KTsKICAgICAgfTsKICAgICAgcmVhZGVyLnJlYWRBc0FycmF5QnVmZmVyKGZpbGUpOwogICAgfSk7CiAgICAvLyBXYWl0IGZvciB0aGUgZGF0YSB0byBiZSByZWFkeS4KICAgIGxldCBmaWxlRGF0YSA9IHlpZWxkIHsKICAgICAgcHJvbWlzZTogZmlsZURhdGFQcm9taXNlLAogICAgICByZXNwb25zZTogewogICAgICAgIGFjdGlvbjogJ2NvbnRpbnVlJywKICAgICAgfQogICAgfTsKCiAgICAvLyBVc2UgYSBjaHVua2VkIHNlbmRpbmcgdG8gYXZvaWQgbWVzc2FnZSBzaXplIGxpbWl0cy4gU2VlIGIvNjIxMTU2NjAuCiAgICBsZXQgcG9zaXRpb24gPSAwOwogICAgZG8gewogICAgICBjb25zdCBsZW5ndGggPSBNYXRoLm1pbihmaWxlRGF0YS5ieXRlTGVuZ3RoIC0gcG9zaXRpb24sIE1BWF9QQVlMT0FEX1NJWkUpOwogICAgICBjb25zdCBjaHVuayA9IG5ldyBVaW50OEFycmF5KGZpbGVEYXRhLCBwb3NpdGlvbiwgbGVuZ3RoKTsKICAgICAgcG9zaXRpb24gKz0gbGVuZ3RoOwoKICAgICAgY29uc3QgYmFzZTY0ID0gYnRvYShTdHJpbmcuZnJvbUNoYXJDb2RlLmFwcGx5KG51bGwsIGNodW5rKSk7CiAgICAgIHlpZWxkIHsKICAgICAgICByZXNwb25zZTogewogICAgICAgICAgYWN0aW9uOiAnYXBwZW5kJywKICAgICAgICAgIGZpbGU6IGZpbGUubmFtZSwKICAgICAgICAgIGRhdGE6IGJhc2U2NCwKICAgICAgICB9LAogICAgICB9OwoKICAgICAgbGV0IHBlcmNlbnREb25lID0gZmlsZURhdGEuYnl0ZUxlbmd0aCA9PT0gMCA/CiAgICAgICAgICAxMDAgOgogICAgICAgICAgTWF0aC5yb3VuZCgocG9zaXRpb24gLyBmaWxlRGF0YS5ieXRlTGVuZ3RoKSAqIDEwMCk7CiAgICAgIHBlcmNlbnQudGV4dENvbnRlbnQgPSBgJHtwZXJjZW50RG9uZX0lIGRvbmVgOwoKICAgIH0gd2hpbGUgKHBvc2l0aW9uIDwgZmlsZURhdGEuYnl0ZUxlbmd0aCk7CiAgfQoKICAvLyBBbGwgZG9uZS4KICB5aWVsZCB7CiAgICByZXNwb25zZTogewogICAgICBhY3Rpb246ICdjb21wbGV0ZScsCiAgICB9CiAgfTsKfQoKc2NvcGUuZ29vZ2xlID0gc2NvcGUuZ29vZ2xlIHx8IHt9OwpzY29wZS5nb29nbGUuY29sYWIgPSBzY29wZS5nb29nbGUuY29sYWIgfHwge307CnNjb3BlLmdvb2dsZS5jb2xhYi5fZmlsZXMgPSB7CiAgX3VwbG9hZEZpbGVzLAogIF91cGxvYWRGaWxlc0NvbnRpbnVlLAp9Owp9KShzZWxmKTsK",
              "ok": true,
              "headers": [
                [
                  "content-type",
                  "application/javascript"
                ]
              ],
              "status": 200,
              "status_text": ""
            }
          },
          "base_uri": "https://localhost:8080/",
          "height": 72
        },
        "id": "RB8RjtuW98wj",
        "outputId": "82077541-076f-40da-c38f-034483119780"
      },
      "source": [
        "from google.colab import files\n",
        "uploaded = files.upload()\n"
      ],
      "execution_count": null,
      "outputs": [
        {
          "output_type": "display_data",
          "data": {
            "text/html": [
              "\n",
              "     <input type=\"file\" id=\"files-9be1ff0b-4654-416c-92e8-94dadc70aed7\" name=\"files[]\" multiple disabled\n",
              "        style=\"border:none\" />\n",
              "     <output id=\"result-9be1ff0b-4654-416c-92e8-94dadc70aed7\">\n",
              "      Upload widget is only available when the cell has been executed in the\n",
              "      current browser session. Please rerun this cell to enable.\n",
              "      </output>\n",
              "      <script src=\"/nbextensions/google.colab/files.js\"></script> "
            ],
            "text/plain": [
              "<IPython.core.display.HTML object>"
            ]
          },
          "metadata": {
            "tags": []
          }
        },
        {
          "output_type": "stream",
          "text": [
            "Saving base_tarea_3.xlsx to base_tarea_3.xlsx\n"
          ],
          "name": "stdout"
        }
      ]
    },
    {
      "cell_type": "code",
      "metadata": {
        "colab": {
          "base_uri": "https://localhost:8080/"
        },
        "id": "jLr347sjvzHx",
        "outputId": "b9a884c8-7f37-48b1-f853-eb28af1d2886"
      },
      "source": [
        "for x in range(1,4):\n",
        "  print('s'+str(x))\n",
        "  if x !=1:   \n",
        "    bt =pd.concat([bt , pd.read_excel('base_tarea_3.xlsx',sheet_name='s'+str(x))])\n",
        "  else:\n",
        "    bt=pd.read_excel('base_tarea_3.xlsx',sheet_name='s'+str(x))\n",
        "  len(bt)"
      ],
      "execution_count": null,
      "outputs": [
        {
          "output_type": "stream",
          "text": [
            "s1\n",
            "s2\n",
            "s3\n"
          ],
          "name": "stdout"
        }
      ]
    },
    {
      "cell_type": "code",
      "metadata": {
        "id": "TpBJWc2JzBpS"
      },
      "source": [
        ""
      ],
      "execution_count": null,
      "outputs": []
    },
    {
      "cell_type": "code",
      "metadata": {
        "colab": {
          "base_uri": "https://localhost:8080/"
        },
        "id": "pgie7qkDz_j8",
        "outputId": "3ff5bfcf-21b1-4dad-d227-4bff940176b8"
      },
      "source": [
        "len(bt)"
      ],
      "execution_count": null,
      "outputs": [
        {
          "output_type": "execute_result",
          "data": {
            "text/plain": [
              "4350"
            ]
          },
          "metadata": {
            "tags": []
          },
          "execution_count": 61
        }
      ]
    },
    {
      "cell_type": "markdown",
      "metadata": {
        "id": "ZFTfJm6es_KM"
      },
      "source": [
        "Ejercicio 18\n"
      ]
    },
    {
      "cell_type": "code",
      "metadata": {
        "id": "TDmjipLO-D0q"
      },
      "source": [
        "df2 =df.head(10)"
      ],
      "execution_count": null,
      "outputs": []
    },
    {
      "cell_type": "code",
      "metadata": {
        "colab": {
          "base_uri": "https://localhost:8080/",
          "height": 335
        },
        "id": "3dI6xxXjBPEa",
        "outputId": "e0102c7d-a6c5-45d1-a4d3-6ee7e8c095e2"
      },
      "source": [
        "df2.plot(x=\"ID\",y=[\"Production\",\"Labor_Hours\"],kind='bar')"
      ],
      "execution_count": null,
      "outputs": [
        {
          "output_type": "execute_result",
          "data": {
            "text/plain": [
              "<matplotlib.axes._subplots.AxesSubplot at 0x7fca43d58350>"
            ]
          },
          "metadata": {
            "tags": []
          },
          "execution_count": 25
        },
        {
          "output_type": "display_data",
          "data": {
            "image/png": "[encoded data removed]",
            "text/plain": [
              "<Figure size 432x288 with 1 Axes>"
            ]
          },
          "metadata": {
            "tags": [],
            "needs_background": "light"
          }
        }
      ]
    },
    {
      "cell_type": "code",
      "metadata": {
        "id": "JICMOD_8BhPn"
      },
      "source": [
        "df2 =df.sort_values(\"Production\",ascending= False).head(10)"
      ],
      "execution_count": null,
      "outputs": []
    },
    {
      "cell_type": "code",
      "metadata": {
        "id": "hu3MP6yr872W",
        "colab": {
          "base_uri": "https://localhost:8080/",
          "height": 342
        },
        "outputId": "d1423024-f1e4-4dc7-a725-1186ebd7e6f5"
      },
      "source": [
        "df2.plot(x=\"ID\",y=[\"Production\",\"Labor_Hours\"],kind='bar')"
      ],
      "execution_count": null,
      "outputs": [
        {
          "output_type": "execute_result",
          "data": {
            "text/plain": [
              "<matplotlib.axes._subplots.AxesSubplot at 0x7fca43c6ea50>"
            ]
          },
          "metadata": {
            "tags": []
          },
          "execution_count": 32
        },
        {
          "output_type": "display_data",
          "data": {
            "image/png": "[encoded data removed]",
            "text/plain": [
              "<Figure size 432x288 with 1 Axes>"
            ]
          },
          "metadata": {
            "tags": [],
            "needs_background": "light"
          }
        }
      ]
    },
    {
      "cell_type": "code",
      "metadata": {
        "colab": {
          "base_uri": "https://localhost:8080/",
          "height": 546
        },
        "id": "oE8Vz7dP9qOg",
        "outputId": "b6c9b43a-7528-4f80-9041-9ffde789eae0"
      },
      "source": [
        "df.head(10)"
      ],
      "execution_count": null,
      "outputs": [
        {
          "output_type": "execute_result",
          "data": {
            "text/html": [
              "<div>\n",
              "<style scoped>\n",
              "    .dataframe tbody tr th:only-of-type {\n",
              "        vertical-align: middle;\n",
              "    }\n",
              "\n",
              "    .dataframe tbody tr th {\n",
              "        vertical-align: top;\n",
              "    }\n",
              "\n",
              "    .dataframe thead th {\n",
              "        text-align: right;\n",
              "    }\n",
              "</style>\n",
              "<table border=\"1\" class=\"dataframe\">\n",
              "  <thead>\n",
              "    <tr style=\"text-align: right;\">\n",
              "      <th></th>\n",
              "      <th>Year</th>\n",
              "      <th>ID</th>\n",
              "      <th>Name</th>\n",
              "      <th>State</th>\n",
              "      <th>Columna</th>\n",
              "      <th>County</th>\n",
              "      <th>Status</th>\n",
              "      <th>Type</th>\n",
              "      <th>Company Type</th>\n",
              "      <th>Production</th>\n",
              "      <th>Average Employees</th>\n",
              "      <th>Labor_Hours</th>\n",
              "      <th>date</th>\n",
              "    </tr>\n",
              "  </thead>\n",
              "  <tbody>\n",
              "    <tr>\n",
              "      <th>0</th>\n",
              "      <td>2013</td>\n",
              "      <td>103381</td>\n",
              "      <td>Tacoa Highwall Miner</td>\n",
              "      <td>Alabama</td>\n",
              "      <td>NaN</td>\n",
              "      <td>Bibb</td>\n",
              "      <td>Active, men working, not producing</td>\n",
              "      <td>Surface</td>\n",
              "      <td>Indepedent Producer Operator</td>\n",
              "      <td>56004</td>\n",
              "      <td>10</td>\n",
              "      <td>22392</td>\n",
              "      <td>2003-06-17</td>\n",
              "    </tr>\n",
              "    <tr>\n",
              "      <th>1</th>\n",
              "      <td>2013</td>\n",
              "      <td>103404</td>\n",
              "      <td>Reid School Mine</td>\n",
              "      <td>Alabama</td>\n",
              "      <td>NaN</td>\n",
              "      <td>Blount</td>\n",
              "      <td>Permanently abandoned</td>\n",
              "      <td>Surface</td>\n",
              "      <td>Indepedent Producer Operator</td>\n",
              "      <td>28807</td>\n",
              "      <td>18</td>\n",
              "      <td>28447</td>\n",
              "      <td>2005-09-21</td>\n",
              "    </tr>\n",
              "    <tr>\n",
              "      <th>2</th>\n",
              "      <td>2013</td>\n",
              "      <td>100759</td>\n",
              "      <td>North River #1 Underground Min</td>\n",
              "      <td>Alabama</td>\n",
              "      <td>NaN</td>\n",
              "      <td>Fayette</td>\n",
              "      <td>Active, men working, not producing</td>\n",
              "      <td>Underground</td>\n",
              "      <td>Indepedent Producer Operator</td>\n",
              "      <td>1440115</td>\n",
              "      <td>183</td>\n",
              "      <td>474784</td>\n",
              "      <td>2001-01-13</td>\n",
              "    </tr>\n",
              "    <tr>\n",
              "      <th>3</th>\n",
              "      <td>2013</td>\n",
              "      <td>103246</td>\n",
              "      <td>Bear Creek</td>\n",
              "      <td>Alabama</td>\n",
              "      <td>NaN</td>\n",
              "      <td>Franklin</td>\n",
              "      <td>Active</td>\n",
              "      <td>Surface</td>\n",
              "      <td>Indepedent Producer Operator</td>\n",
              "      <td>87587</td>\n",
              "      <td>13</td>\n",
              "      <td>29193</td>\n",
              "      <td>2006-01-03</td>\n",
              "    </tr>\n",
              "    <tr>\n",
              "      <th>4</th>\n",
              "      <td>2013</td>\n",
              "      <td>103451</td>\n",
              "      <td>Knight Mine</td>\n",
              "      <td>Alabama</td>\n",
              "      <td>NaN</td>\n",
              "      <td>Franklin</td>\n",
              "      <td>Active</td>\n",
              "      <td>Surface</td>\n",
              "      <td>Indepedent Producer Operator</td>\n",
              "      <td>147499</td>\n",
              "      <td>27</td>\n",
              "      <td>46393</td>\n",
              "      <td>2007-05-21</td>\n",
              "    </tr>\n",
              "    <tr>\n",
              "      <th>5</th>\n",
              "      <td>2013</td>\n",
              "      <td>103433</td>\n",
              "      <td>Crane Central Mine</td>\n",
              "      <td>Alabama</td>\n",
              "      <td>NaN</td>\n",
              "      <td>Jackson</td>\n",
              "      <td>Temporarily closed</td>\n",
              "      <td>Surface</td>\n",
              "      <td>Indepedent Producer Operator</td>\n",
              "      <td>69339</td>\n",
              "      <td>27</td>\n",
              "      <td>47195</td>\n",
              "      <td>2005-06-25</td>\n",
              "    </tr>\n",
              "    <tr>\n",
              "      <th>6</th>\n",
              "      <td>2013</td>\n",
              "      <td>100329</td>\n",
              "      <td>Concord Mine</td>\n",
              "      <td>Alabama</td>\n",
              "      <td>NaN</td>\n",
              "      <td>Jefferson</td>\n",
              "      <td>Active</td>\n",
              "      <td>Underground</td>\n",
              "      <td>Operating Subsidiary</td>\n",
              "      <td>0</td>\n",
              "      <td>59</td>\n",
              "      <td>144002</td>\n",
              "      <td>2006-02-05</td>\n",
              "    </tr>\n",
              "    <tr>\n",
              "      <th>7</th>\n",
              "      <td>2013</td>\n",
              "      <td>100851</td>\n",
              "      <td>Oak Grove Mine</td>\n",
              "      <td>Alabama</td>\n",
              "      <td>NaN</td>\n",
              "      <td>Jefferson</td>\n",
              "      <td>Active</td>\n",
              "      <td>Underground</td>\n",
              "      <td>Operating Subsidiary</td>\n",
              "      <td>2269014</td>\n",
              "      <td>447</td>\n",
              "      <td>1001809</td>\n",
              "      <td>2007-02-07</td>\n",
              "    </tr>\n",
              "    <tr>\n",
              "      <th>8</th>\n",
              "      <td>2013</td>\n",
              "      <td>102901</td>\n",
              "      <td>Shoal Creek Mine</td>\n",
              "      <td>Alabama</td>\n",
              "      <td>NaN</td>\n",
              "      <td>Jefferson</td>\n",
              "      <td>Active</td>\n",
              "      <td>Surface</td>\n",
              "      <td>Indepedent Producer Operator</td>\n",
              "      <td>0</td>\n",
              "      <td>5</td>\n",
              "      <td>12396</td>\n",
              "      <td>2002-08-17</td>\n",
              "    </tr>\n",
              "    <tr>\n",
              "      <th>9</th>\n",
              "      <td>2013</td>\n",
              "      <td>102901</td>\n",
              "      <td>Shoal Creek Mine</td>\n",
              "      <td>Alabama</td>\n",
              "      <td>NaN</td>\n",
              "      <td>Jefferson</td>\n",
              "      <td>Active</td>\n",
              "      <td>Underground</td>\n",
              "      <td>Indepedent Producer Operator</td>\n",
              "      <td>1453024</td>\n",
              "      <td>571</td>\n",
              "      <td>1237415</td>\n",
              "      <td>2002-08-16</td>\n",
              "    </tr>\n",
              "  </tbody>\n",
              "</table>\n",
              "</div>"
            ],
            "text/plain": [
              "   Year      ID  ... Labor_Hours       date\n",
              "0  2013  103381  ...       22392 2003-06-17\n",
              "1  2013  103404  ...       28447 2005-09-21\n",
              "2  2013  100759  ...      474784 2001-01-13\n",
              "3  2013  103246  ...       29193 2006-01-03\n",
              "4  2013  103451  ...       46393 2007-05-21\n",
              "5  2013  103433  ...       47195 2005-06-25\n",
              "6  2013  100329  ...      144002 2006-02-05\n",
              "7  2013  100851  ...     1001809 2007-02-07\n",
              "8  2013  102901  ...       12396 2002-08-17\n",
              "9  2013  102901  ...     1237415 2002-08-16\n",
              "\n",
              "[10 rows x 13 columns]"
            ]
          },
          "metadata": {
            "tags": []
          },
          "execution_count": 33
        }
      ]
    },
    {
      "cell_type": "code",
      "metadata": {
        "colab": {
          "base_uri": "https://localhost:8080/",
          "height": 674
        },
        "id": "TMrWPVvT-DRa",
        "outputId": "2993c9a4-706a-49f8-a7f8-451f28c1e8b0"
      },
      "source": [
        "df.sort_values('Labor_Hours',ascending=False)"
      ],
      "execution_count": null,
      "outputs": [
        {
          "output_type": "execute_result",
          "data": {
            "text/html": [
              "<div>\n",
              "<style scoped>\n",
              "    .dataframe tbody tr th:only-of-type {\n",
              "        vertical-align: middle;\n",
              "    }\n",
              "\n",
              "    .dataframe tbody tr th {\n",
              "        vertical-align: top;\n",
              "    }\n",
              "\n",
              "    .dataframe thead th {\n",
              "        text-align: right;\n",
              "    }\n",
              "</style>\n",
              "<table border=\"1\" class=\"dataframe\">\n",
              "  <thead>\n",
              "    <tr style=\"text-align: right;\">\n",
              "      <th></th>\n",
              "      <th>Year</th>\n",
              "      <th>ID</th>\n",
              "      <th>Name</th>\n",
              "      <th>State</th>\n",
              "      <th>Columna</th>\n",
              "      <th>County</th>\n",
              "      <th>Status</th>\n",
              "      <th>Type</th>\n",
              "      <th>Company Type</th>\n",
              "      <th>Production</th>\n",
              "      <th>Average Employees</th>\n",
              "      <th>Labor_Hours</th>\n",
              "      <th>date</th>\n",
              "    </tr>\n",
              "  </thead>\n",
              "  <tbody>\n",
              "    <tr>\n",
              "      <th>1450</th>\n",
              "      <td>NaN</td>\n",
              "      <td>NaN</td>\n",
              "      <td>NaN</td>\n",
              "      <td>NaN</td>\n",
              "      <td>NaN</td>\n",
              "      <td>NaN</td>\n",
              "      <td>NaN</td>\n",
              "      <td>NaN</td>\n",
              "      <td>NaN</td>\n",
              "      <td>984841779.0</td>\n",
              "      <td>NaN</td>\n",
              "      <td>177910757.0</td>\n",
              "      <td>NaT</td>\n",
              "    </tr>\n",
              "    <tr>\n",
              "      <th>1406</th>\n",
              "      <td>2013.0</td>\n",
              "      <td>4800977.0</td>\n",
              "      <td>Black Thunder</td>\n",
              "      <td>Wyoming</td>\n",
              "      <td>NaN</td>\n",
              "      <td>Campbell</td>\n",
              "      <td>Active</td>\n",
              "      <td>Surface</td>\n",
              "      <td>Operating Subsidiary</td>\n",
              "      <td>100687876.0</td>\n",
              "      <td>1585.0</td>\n",
              "      <td>3206295.0</td>\n",
              "      <td>2005-06-25</td>\n",
              "    </tr>\n",
              "    <tr>\n",
              "      <th>711</th>\n",
              "      <td>2013.0</td>\n",
              "      <td>3607230.0</td>\n",
              "      <td>Bailey Mine</td>\n",
              "      <td>Pennsylvania (Bituminous)</td>\n",
              "      <td>NaN</td>\n",
              "      <td>Greene</td>\n",
              "      <td>Active</td>\n",
              "      <td>Underground</td>\n",
              "      <td>Operating Subsidiary</td>\n",
              "      <td>11321481.0</td>\n",
              "      <td>1222.0</td>\n",
              "      <td>3015772.0</td>\n",
              "      <td>2005-09-30</td>\n",
              "    </tr>\n",
              "    <tr>\n",
              "      <th>1413</th>\n",
              "      <td>2013.0</td>\n",
              "      <td>4801353.0</td>\n",
              "      <td>North Antelope Rochelle Mine</td>\n",
              "      <td>Wyoming</td>\n",
              "      <td>NaN</td>\n",
              "      <td>Campbell</td>\n",
              "      <td>Active</td>\n",
              "      <td>Surface</td>\n",
              "      <td>Operating Subsidiary</td>\n",
              "      <td>111005549.0</td>\n",
              "      <td>1349.0</td>\n",
              "      <td>2811138.0</td>\n",
              "      <td>2006-03-07</td>\n",
              "    </tr>\n",
              "    <tr>\n",
              "      <th>25</th>\n",
              "      <td>2013.0</td>\n",
              "      <td>101401.0</td>\n",
              "      <td>No 7 Mine</td>\n",
              "      <td>Alabama</td>\n",
              "      <td>NaN</td>\n",
              "      <td>Tuscaloosa</td>\n",
              "      <td>Active</td>\n",
              "      <td>Underground</td>\n",
              "      <td>Operating Subsidiary</td>\n",
              "      <td>5405412.0</td>\n",
              "      <td>989.0</td>\n",
              "      <td>2464719.0</td>\n",
              "      <td>2005-06-25</td>\n",
              "    </tr>\n",
              "    <tr>\n",
              "      <th>...</th>\n",
              "      <td>...</td>\n",
              "      <td>...</td>\n",
              "      <td>...</td>\n",
              "      <td>...</td>\n",
              "      <td>...</td>\n",
              "      <td>...</td>\n",
              "      <td>...</td>\n",
              "      <td>...</td>\n",
              "      <td>...</td>\n",
              "      <td>...</td>\n",
              "      <td>...</td>\n",
              "      <td>...</td>\n",
              "      <td>...</td>\n",
              "    </tr>\n",
              "    <tr>\n",
              "      <th>1433</th>\n",
              "      <td>2013.0</td>\n",
              "      <td>1519554.0</td>\n",
              "      <td>No 1</td>\n",
              "      <td>Refuse Recovery</td>\n",
              "      <td>NaN</td>\n",
              "      <td>Harlan</td>\n",
              "      <td>Permanently abandoned</td>\n",
              "      <td>Refuse</td>\n",
              "      <td>Indepedent Producer Operator</td>\n",
              "      <td>8586.0</td>\n",
              "      <td>1.0</td>\n",
              "      <td>133.0</td>\n",
              "      <td>2007-12-07</td>\n",
              "    </tr>\n",
              "    <tr>\n",
              "      <th>740</th>\n",
              "      <td>2013.0</td>\n",
              "      <td>3609189.0</td>\n",
              "      <td>Ser #3163</td>\n",
              "      <td>Pennsylvania (Bituminous)</td>\n",
              "      <td>NaN</td>\n",
              "      <td>Indiana</td>\n",
              "      <td>Active</td>\n",
              "      <td>Surface</td>\n",
              "      <td>Indepedent Producer Operator</td>\n",
              "      <td>574.0</td>\n",
              "      <td>1.0</td>\n",
              "      <td>54.0</td>\n",
              "      <td>2001-01-13</td>\n",
              "    </tr>\n",
              "    <tr>\n",
              "      <th>1437</th>\n",
              "      <td>2013.0</td>\n",
              "      <td>3610027.0</td>\n",
              "      <td>Paradise Bank</td>\n",
              "      <td>Refuse Recovery</td>\n",
              "      <td>NaN</td>\n",
              "      <td>Northumberland</td>\n",
              "      <td>New, under construction</td>\n",
              "      <td>Refuse</td>\n",
              "      <td>Indepedent Producer Operator</td>\n",
              "      <td>52.0</td>\n",
              "      <td>1.0</td>\n",
              "      <td>53.0</td>\n",
              "      <td>2005-07-24</td>\n",
              "    </tr>\n",
              "    <tr>\n",
              "      <th>213</th>\n",
              "      <td>2013.0</td>\n",
              "      <td>1519619.0</td>\n",
              "      <td>No. 1 Auger</td>\n",
              "      <td>Kentucky (East)</td>\n",
              "      <td>NaN</td>\n",
              "      <td>Floyd</td>\n",
              "      <td>Temporarily closed</td>\n",
              "      <td>Surface</td>\n",
              "      <td>Indepedent Producer Operator</td>\n",
              "      <td>700.0</td>\n",
              "      <td>3.0</td>\n",
              "      <td>40.0</td>\n",
              "      <td>2005-07-24</td>\n",
              "    </tr>\n",
              "    <tr>\n",
              "      <th>837</th>\n",
              "      <td>2013.0</td>\n",
              "      <td>3608140.0</td>\n",
              "      <td>Bell Corp</td>\n",
              "      <td>Pennsylvania (Anthracite)</td>\n",
              "      <td>NaN</td>\n",
              "      <td>Schuylkill</td>\n",
              "      <td>Temporarily closed</td>\n",
              "      <td>Surface</td>\n",
              "      <td>Indepedent Producer Operator</td>\n",
              "      <td>23.0</td>\n",
              "      <td>2.0</td>\n",
              "      <td>35.0</td>\n",
              "      <td>2005-09-21</td>\n",
              "    </tr>\n",
              "  </tbody>\n",
              "</table>\n",
              "<p>1451 rows × 13 columns</p>\n",
              "</div>"
            ],
            "text/plain": [
              "        Year         ID  ...  Labor_Hours       date\n",
              "1450     NaN        NaN  ...  177910757.0        NaT\n",
              "1406  2013.0  4800977.0  ...    3206295.0 2005-06-25\n",
              "711   2013.0  3607230.0  ...    3015772.0 2005-09-30\n",
              "1413  2013.0  4801353.0  ...    2811138.0 2006-03-07\n",
              "25    2013.0   101401.0  ...    2464719.0 2005-06-25\n",
              "...      ...        ...  ...          ...        ...\n",
              "1433  2013.0  1519554.0  ...        133.0 2007-12-07\n",
              "740   2013.0  3609189.0  ...         54.0 2001-01-13\n",
              "1437  2013.0  3610027.0  ...         53.0 2005-07-24\n",
              "213   2013.0  1519619.0  ...         40.0 2005-07-24\n",
              "837   2013.0  3608140.0  ...         35.0 2005-09-21\n",
              "\n",
              "[1451 rows x 13 columns]"
            ]
          },
          "metadata": {
            "tags": []
          },
          "execution_count": 33
        }
      ]
    },
    {
      "cell_type": "code",
      "metadata": {
        "id": "7rWoOXa--IoJ"
      },
      "source": [
        ""
      ],
      "execution_count": null,
      "outputs": []
    }
  ]
}